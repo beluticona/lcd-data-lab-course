{
  "nbformat": 4,
  "nbformat_minor": 0,
  "metadata": {
    "colab": {
      "name": "Clase07-05_parte2.ipynb",
      "provenance": [],
      "collapsed_sections": []
    },
    "kernelspec": {
      "name": "python3",
      "display_name": "Python 3"
    },
    "language_info": {
      "name": "python"
    }
  },
  "cells": [
    {
      "cell_type": "markdown",
      "metadata": {
        "id": "A6ofV6HC_ScT"
      },
      "source": [
        "# Árboles de decisión y Random Forest como modelos de clasificación\n",
        "\n",
        "En esta segunda parte, utilizaremos los árboles de decisión como algoritmos de clasificación. La sintaxis y la forma de proceder es muy similar a la utilizada en regresión con árboles y lo visto en otros algoritmos de clasificación como la regresión logística, por lo que vamos a hacer un repaso muy breve.\n",
        "\n",
        "Vamos a utilizar la misma base de datos de la notebook de regresión con árboles, en este caso para responder una pregunta quizás un tanto rebuscada: dados datos de los metros cuadrados, el precio de publicación de un inmueble, la antigüedad, etc, ¿podemos identificar en qué zona de la ciudad se encuentra el inmueble?"
      ]
    },
    {
      "cell_type": "markdown",
      "metadata": {
        "id": "CTa23lYdEML5"
      },
      "source": [
        "### Carga de librerías\n"
      ]
    },
    {
      "cell_type": "code",
      "metadata": {
        "colab": {
          "base_uri": "https://localhost:8080/"
        },
        "id": "qOOm67sfHF1P",
        "outputId": "1e305741-c26b-4856-9e56-22f68f75b54d"
      },
      "source": [
        "# Librerias generales y montaje del drive\n",
        "import pandas as pd \n",
        "from google.colab import drive\n",
        "drive.mount('/content/drive')\n",
        "import matplotlib.pyplot as plt \n",
        "import numpy as np "
      ],
      "execution_count": null,
      "outputs": [
        {
          "output_type": "stream",
          "text": [
            "Drive already mounted at /content/drive; to attempt to forcibly remount, call drive.mount(\"/content/drive\", force_remount=True).\n"
          ],
          "name": "stdout"
        }
      ]
    },
    {
      "cell_type": "markdown",
      "metadata": {
        "id": "77gF7-naF4C8"
      },
      "source": [
        "Módulos de scikit-learn para árboles de clasificación y métricas para evaluar nuestro modelo:"
      ]
    },
    {
      "cell_type": "code",
      "metadata": {
        "id": "LpBNdB5nGJsL"
      },
      "source": [
        "# Modulos específicos para árboles de decisión\n",
        "from sklearn.tree import DecisionTreeClassifier # Arboles de decisión para clasificación\n",
        "from sklearn.tree import plot_tree # Función para visualizar el árbol\n",
        "\n",
        "from sklearn.ensemble import RandomForestClassifier # Random forests para clasificación\n",
        "\n",
        "# Módulos utiles para evaluar el modelo \n",
        "from sklearn.model_selection import train_test_split # Para separar en train y test\n",
        "from sklearn.model_selection import cross_val_score # Para hacer cross-validation y evaluar el modelo"
      ],
      "execution_count": null,
      "outputs": []
    },
    {
      "cell_type": "markdown",
      "metadata": {
        "id": "NZ0Nmv3TCAp7"
      },
      "source": [
        "## Base de datos\n",
        "\n",
        "Volvemos a trabajar con la base de datos de precios de inmuebles de la ciudad de Buenos Aires del año 2016.\n",
        "\n",
        "Cargamos los datos y construimos las mismas columnas que hicimos en la notebook anterior:"
      ]
    },
    {
      "cell_type": "code",
      "metadata": {
        "id": "W6O1N8xaHIJW"
      },
      "source": [
        "# Path de nuestro dataset\n",
        "filename = '/content/drive/My Drive/LaboDatos2021/Precios_Departamentos_2016.csv'"
      ],
      "execution_count": null,
      "outputs": []
    },
    {
      "cell_type": "code",
      "metadata": {
        "colab": {
          "base_uri": "https://localhost:8080/",
          "height": 224
        },
        "id": "OIrIx7mRHrrd",
        "outputId": "d9baae4d-90ee-477a-aedf-966afd1aeb96"
      },
      "source": [
        "# Carga del dataset\n",
        "df = pd.read_csv(filename)\n",
        "\n",
        "# Logaritmo en base 10 del precio en dolares del inmueble\n",
        "df['log10_DOLARES'] = np.log10(df['DOLARES'])\n",
        "\n",
        "print('Dimensión del dataset: {}'.format(df.shape))\n",
        "\n",
        "# Inspección de los primeros datos\n",
        "df.head()"
      ],
      "execution_count": null,
      "outputs": [
        {
          "output_type": "stream",
          "text": [
            "Dimensión del dataset: (2232, 9)\n"
          ],
          "name": "stdout"
        },
        {
          "output_type": "execute_result",
          "data": {
            "text/html": [
              "<div>\n",
              "<style scoped>\n",
              "    .dataframe tbody tr th:only-of-type {\n",
              "        vertical-align: middle;\n",
              "    }\n",
              "\n",
              "    .dataframe tbody tr th {\n",
              "        vertical-align: top;\n",
              "    }\n",
              "\n",
              "    .dataframe thead th {\n",
              "        text-align: right;\n",
              "    }\n",
              "</style>\n",
              "<table border=\"1\" class=\"dataframe\">\n",
              "  <thead>\n",
              "    <tr style=\"text-align: right;\">\n",
              "      <th></th>\n",
              "      <th>M2</th>\n",
              "      <th>AMBIENTES</th>\n",
              "      <th>ANTIGUEDAD</th>\n",
              "      <th>BAÑOS</th>\n",
              "      <th>LATITUD</th>\n",
              "      <th>LONGITUD</th>\n",
              "      <th>COMUNA</th>\n",
              "      <th>DOLARES</th>\n",
              "      <th>log10_DOLARES</th>\n",
              "    </tr>\n",
              "  </thead>\n",
              "  <tbody>\n",
              "    <tr>\n",
              "      <th>0</th>\n",
              "      <td>81</td>\n",
              "      <td>3</td>\n",
              "      <td>4</td>\n",
              "      <td>1</td>\n",
              "      <td>-34.581078</td>\n",
              "      <td>-58.449433</td>\n",
              "      <td>COMUNA 13</td>\n",
              "      <td>225000</td>\n",
              "      <td>5.352183</td>\n",
              "    </tr>\n",
              "    <tr>\n",
              "      <th>1</th>\n",
              "      <td>69</td>\n",
              "      <td>3</td>\n",
              "      <td>20</td>\n",
              "      <td>1</td>\n",
              "      <td>-34.623129</td>\n",
              "      <td>-58.439338</td>\n",
              "      <td>COMUNA 06</td>\n",
              "      <td>140000</td>\n",
              "      <td>5.146128</td>\n",
              "    </tr>\n",
              "    <tr>\n",
              "      <th>2</th>\n",
              "      <td>75</td>\n",
              "      <td>3</td>\n",
              "      <td>20</td>\n",
              "      <td>1</td>\n",
              "      <td>-34.604972</td>\n",
              "      <td>-58.421278</td>\n",
              "      <td>COMUNA 05</td>\n",
              "      <td>154000</td>\n",
              "      <td>5.187521</td>\n",
              "    </tr>\n",
              "    <tr>\n",
              "      <th>3</th>\n",
              "      <td>42</td>\n",
              "      <td>2</td>\n",
              "      <td>40</td>\n",
              "      <td>1</td>\n",
              "      <td>-34.604725</td>\n",
              "      <td>-58.399524</td>\n",
              "      <td>COMUNA 03</td>\n",
              "      <td>75000</td>\n",
              "      <td>4.875061</td>\n",
              "    </tr>\n",
              "    <tr>\n",
              "      <th>4</th>\n",
              "      <td>90</td>\n",
              "      <td>3</td>\n",
              "      <td>1</td>\n",
              "      <td>1</td>\n",
              "      <td>-34.623390</td>\n",
              "      <td>-58.504401</td>\n",
              "      <td>COMUNA 10</td>\n",
              "      <td>149900</td>\n",
              "      <td>5.175802</td>\n",
              "    </tr>\n",
              "  </tbody>\n",
              "</table>\n",
              "</div>"
            ],
            "text/plain": [
              "   M2  AMBIENTES  ANTIGUEDAD  ...     COMUNA  DOLARES  log10_DOLARES\n",
              "0  81          3           4  ...  COMUNA 13   225000       5.352183\n",
              "1  69          3          20  ...  COMUNA 06   140000       5.146128\n",
              "2  75          3          20  ...  COMUNA 05   154000       5.187521\n",
              "3  42          2          40  ...  COMUNA 03    75000       4.875061\n",
              "4  90          3           1  ...  COMUNA 10   149900       5.175802\n",
              "\n",
              "[5 rows x 9 columns]"
            ]
          },
          "metadata": {
            "tags": []
          },
          "execution_count": 23
        }
      ]
    },
    {
      "cell_type": "markdown",
      "metadata": {
        "id": "ojAaMFIDcuo1"
      },
      "source": [
        "Dado que queremos ver si podemos identificar la zona a la cual pertenece el inmueble, definamos zona primero. La definición la vamos a tomar de [este mapa](https://www.estadisticaciudad.gob.ar/eyc/?p=52285) perteneciente a la dirección de estadísticas y censos de la Ciudad que divide la ciudad en 5 zonas. Creemos una nueva columna con la zona a la que pertenece cada comuna:"
      ]
    },
    {
      "cell_type": "code",
      "metadata": {
        "colab": {
          "base_uri": "https://localhost:8080/",
          "height": 206
        },
        "id": "z6v8QBjJS68_",
        "outputId": "bd8d4565-284b-48d8-eb16-966790e31975"
      },
      "source": [
        "# Defino un diccionario de a qué zona va cada comuna\n",
        "zonas = {'COMUNA 01': 'B', 'COMUNA 02': 'A', 'COMUNA 03': 'B', \n",
        "         'COMUNA 04': 'C', 'COMUNA 05': 'E', 'COMUNA 06': 'E', \n",
        "         'COMUNA 07': 'E', 'COMUNA 08': 'C', 'COMUNA 09': 'D', \n",
        "         'COMUNA 10': 'D', 'COMUNA 11': 'D', 'COMUNA 12': 'A', \n",
        "         'COMUNA 13': 'A', 'COMUNA 14': 'A', 'COMUNA 15': 'E'}\n",
        "\n",
        "# Creo una nueva columna aplicando el diccionario creado\n",
        "df['ZONA'] = df['COMUNA'].apply(lambda x: zonas[x])\n",
        "\n",
        "df.head()"
      ],
      "execution_count": null,
      "outputs": [
        {
          "output_type": "execute_result",
          "data": {
            "text/html": [
              "<div>\n",
              "<style scoped>\n",
              "    .dataframe tbody tr th:only-of-type {\n",
              "        vertical-align: middle;\n",
              "    }\n",
              "\n",
              "    .dataframe tbody tr th {\n",
              "        vertical-align: top;\n",
              "    }\n",
              "\n",
              "    .dataframe thead th {\n",
              "        text-align: right;\n",
              "    }\n",
              "</style>\n",
              "<table border=\"1\" class=\"dataframe\">\n",
              "  <thead>\n",
              "    <tr style=\"text-align: right;\">\n",
              "      <th></th>\n",
              "      <th>M2</th>\n",
              "      <th>AMBIENTES</th>\n",
              "      <th>ANTIGUEDAD</th>\n",
              "      <th>BAÑOS</th>\n",
              "      <th>LATITUD</th>\n",
              "      <th>LONGITUD</th>\n",
              "      <th>COMUNA</th>\n",
              "      <th>DOLARES</th>\n",
              "      <th>log10_DOLARES</th>\n",
              "      <th>ZONA</th>\n",
              "    </tr>\n",
              "  </thead>\n",
              "  <tbody>\n",
              "    <tr>\n",
              "      <th>0</th>\n",
              "      <td>81</td>\n",
              "      <td>3</td>\n",
              "      <td>4</td>\n",
              "      <td>1</td>\n",
              "      <td>-34.581078</td>\n",
              "      <td>-58.449433</td>\n",
              "      <td>COMUNA 13</td>\n",
              "      <td>225000</td>\n",
              "      <td>5.352183</td>\n",
              "      <td>A</td>\n",
              "    </tr>\n",
              "    <tr>\n",
              "      <th>1</th>\n",
              "      <td>69</td>\n",
              "      <td>3</td>\n",
              "      <td>20</td>\n",
              "      <td>1</td>\n",
              "      <td>-34.623129</td>\n",
              "      <td>-58.439338</td>\n",
              "      <td>COMUNA 06</td>\n",
              "      <td>140000</td>\n",
              "      <td>5.146128</td>\n",
              "      <td>E</td>\n",
              "    </tr>\n",
              "    <tr>\n",
              "      <th>2</th>\n",
              "      <td>75</td>\n",
              "      <td>3</td>\n",
              "      <td>20</td>\n",
              "      <td>1</td>\n",
              "      <td>-34.604972</td>\n",
              "      <td>-58.421278</td>\n",
              "      <td>COMUNA 05</td>\n",
              "      <td>154000</td>\n",
              "      <td>5.187521</td>\n",
              "      <td>E</td>\n",
              "    </tr>\n",
              "    <tr>\n",
              "      <th>3</th>\n",
              "      <td>42</td>\n",
              "      <td>2</td>\n",
              "      <td>40</td>\n",
              "      <td>1</td>\n",
              "      <td>-34.604725</td>\n",
              "      <td>-58.399524</td>\n",
              "      <td>COMUNA 03</td>\n",
              "      <td>75000</td>\n",
              "      <td>4.875061</td>\n",
              "      <td>B</td>\n",
              "    </tr>\n",
              "    <tr>\n",
              "      <th>4</th>\n",
              "      <td>90</td>\n",
              "      <td>3</td>\n",
              "      <td>1</td>\n",
              "      <td>1</td>\n",
              "      <td>-34.623390</td>\n",
              "      <td>-58.504401</td>\n",
              "      <td>COMUNA 10</td>\n",
              "      <td>149900</td>\n",
              "      <td>5.175802</td>\n",
              "      <td>D</td>\n",
              "    </tr>\n",
              "  </tbody>\n",
              "</table>\n",
              "</div>"
            ],
            "text/plain": [
              "   M2  AMBIENTES  ANTIGUEDAD  BAÑOS  ...     COMUNA  DOLARES log10_DOLARES  ZONA\n",
              "0  81          3           4      1  ...  COMUNA 13   225000      5.352183     A\n",
              "1  69          3          20      1  ...  COMUNA 06   140000      5.146128     E\n",
              "2  75          3          20      1  ...  COMUNA 05   154000      5.187521     E\n",
              "3  42          2          40      1  ...  COMUNA 03    75000      4.875061     B\n",
              "4  90          3           1      1  ...  COMUNA 10   149900      5.175802     D\n",
              "\n",
              "[5 rows x 10 columns]"
            ]
          },
          "metadata": {
            "tags": []
          },
          "execution_count": 24
        }
      ]
    },
    {
      "cell_type": "markdown",
      "metadata": {
        "id": "Rg2HM2BxlEs3"
      },
      "source": [
        "Algo que es importante notar es que las zonas pueden estar desbalanceadas. Esto lo chequeamos con las siguentes líneas:"
      ]
    },
    {
      "cell_type": "code",
      "metadata": {
        "colab": {
          "base_uri": "https://localhost:8080/"
        },
        "id": "1QSkvZLWeHap",
        "outputId": "86eefbea-f9b8-4b66-ca41-1aeffdb5709e"
      },
      "source": [
        "labels, counts = np.unique(df['ZONA'], return_counts=True) # Función que devuelve las etiquetas y las frecuencias\n",
        "\n",
        "print('Etiquetas {}'.format(labels))\n",
        "print('Frecuencias {}'.format(counts))"
      ],
      "execution_count": null,
      "outputs": [
        {
          "output_type": "stream",
          "text": [
            "Etiquetas ['A' 'B' 'C' 'D' 'E']\n",
            "Frecuencias [1138  400   58  104  532]\n"
          ],
          "name": "stdout"
        }
      ]
    },
    {
      "cell_type": "markdown",
      "metadata": {
        "id": "_O38vLD6doA-"
      },
      "source": [
        "Los árboles de decisión no suelen estar muy afectados por clases desbalanceadas por lo que no vamos a considerar un tratamiento especial. Sí es importante tenerlo en cuenta para otros algoritmos de clasificación."
      ]
    },
    {
      "cell_type": "markdown",
      "metadata": {
        "id": "IeCVf4utdX57"
      },
      "source": [
        "### Separación entre entrenamiento y testeo y construcción del clasificador \n",
        "\n",
        "Igual que con regresión, definamos los features y nuestra variable a predecir. Separemos además en entrenamiento y testeo."
      ]
    },
    {
      "cell_type": "code",
      "metadata": {
        "id": "VYHZ923H8XrA"
      },
      "source": [
        "# Lista de features que vamos a considerar \n",
        "features = ['M2', 'AMBIENTES', 'ANTIGUEDAD', 'BAÑOS', 'log10_DOLARES']\n",
        "\n",
        "# Variable a predecir\n",
        "target = 'ZONA'\n",
        "\n",
        "# Construcción de la matriz de features\n",
        "X = df[features].to_numpy()\n",
        "\n",
        "# Construcción del vector a predecir\n",
        "y = df[target].to_numpy()\n",
        "\n",
        "# Creacion de las matrices de entrenamiento y testeo. \n",
        "X_train, X_test, y_train, y_test = train_test_split(X, y, test_size = 0.10)"
      ],
      "execution_count": null,
      "outputs": []
    },
    {
      "cell_type": "markdown",
      "metadata": {
        "id": "s19wNqBddo-d"
      },
      "source": [
        "#### Construcción del clasificador \n",
        "\n",
        "Empecemos con un único árbol sencillo. Vamos a poner solo a modo exploratorio un máximo de 5 hojas en el árbol. Idealmente podríamos esperar que estas 5 hojas sean lo más puras posibles y se correspondan con cada una de las 5 zonas que aparecen en nuestro dataset."
      ]
    },
    {
      "cell_type": "code",
      "metadata": {
        "id": "4YS4uLI09IY1"
      },
      "source": [
        "# Creamos el clasificador con un máximo de 5 hojas\n",
        "dtc = DecisionTreeClassifier(max_leaf_nodes = 5)"
      ],
      "execution_count": null,
      "outputs": []
    },
    {
      "cell_type": "code",
      "metadata": {
        "colab": {
          "base_uri": "https://localhost:8080/"
        },
        "id": "VwLVCjObd48D",
        "outputId": "d9153f78-7474-4279-894a-1d31aee6ad0b"
      },
      "source": [
        "# Entrenamiento del modelo\n",
        "dtc.fit(X_train, y_train)\n",
        "\n",
        "# Score del modelo en el conjunto de entrenamiento \n",
        "score_in_train = dtc.score(X_train, y_train)\n",
        "\n",
        "# Score del modelo en el conjunto de testeo\n",
        "score_in_test = dtc.score(X_test, y_test)\n",
        "\n",
        "print('Score en el set de entrenamiento: {}'.format(score_in_train))\n",
        "print('Score en el set de testeo: {}'.format(score_in_test))"
      ],
      "execution_count": null,
      "outputs": [
        {
          "output_type": "stream",
          "text": [
            "Score en el set de entrenamiento: 0.5766932270916335\n",
            "Score en el set de testeo: 0.6160714285714286\n"
          ],
          "name": "stdout"
        }
      ]
    },
    {
      "cell_type": "markdown",
      "metadata": {
        "id": "E8myUvYNev0Z"
      },
      "source": [
        "Veamos el gráfico del árbol:"
      ]
    },
    {
      "cell_type": "code",
      "metadata": {
        "colab": {
          "base_uri": "https://localhost:8080/",
          "height": 627
        },
        "id": "f3nmWWUJcuXR",
        "outputId": "19220fe4-1d99-4daa-e5ce-8c0913c13a51"
      },
      "source": [
        "# Creamos la figura donde plotear el árbol con matplotlib\n",
        "fig, ax = plt.subplots(figsize = (15, 8))\n",
        "\n",
        "# Llamamos a la función \"plot_tree\" que importamos de sklearn.tree más arriba.\n",
        "# Le pasamos como argumento el modelo que creamos y el nombre de los features.\n",
        "# \"fontsize\" y \"filled\" son solo ajustes de la visualización \n",
        "# y le decimos que plotee el arbol en la figura que creamos\n",
        "plot_tree(dtc, feature_names=features, fontsize = 12, filled = True, ax = ax)"
      ],
      "execution_count": null,
      "outputs": [
        {
          "output_type": "execute_result",
          "data": {
            "text/plain": [
              "[Text(418.5, 391.392, 'log10_DOLARES <= 5.213\\ngini = 0.651\\nsamples = 2008\\nvalue = [1014, 360, 54, 94, 486]'),\n",
              " Text(279.0, 304.416, 'log10_DOLARES <= 4.941\\ngini = 0.715\\nsamples = 1149\\nvalue = [421, 254, 40, 79, 355]'),\n",
              " Text(139.5, 217.44, 'gini = 0.741\\nsamples = 369\\nvalue = [79, 135, 27, 33, 95]'),\n",
              " Text(418.5, 217.44, 'AMBIENTES <= 2.5\\ngini = 0.67\\nsamples = 780\\nvalue = [342, 119, 13, 46, 260]'),\n",
              " Text(279.0, 130.464, 'gini = 0.555\\nsamples = 437\\nvalue = [264, 40, 5, 12, 116]'),\n",
              " Text(558.0, 130.464, 'ANTIGUEDAD <= 31.5\\ngini = 0.709\\nsamples = 343\\nvalue = [78, 79, 8, 34, 144]'),\n",
              " Text(418.5, 43.488, 'gini = 0.64\\nsamples = 198\\nvalue = [52, 16, 4, 23, 103]'),\n",
              " Text(697.5, 43.488, 'gini = 0.693\\nsamples = 145\\nvalue = [26, 63, 4, 11, 41]'),\n",
              " Text(558.0, 304.416, 'gini = 0.484\\nsamples = 859\\nvalue = [593, 106, 14, 15, 131]')]"
            ]
          },
          "metadata": {
            "tags": []
          },
          "execution_count": 30
        },
        {
          "output_type": "display_data",
          "data": {
            "image/png": "[encoded data removed]",
            "text/plain": [
              "<Figure size 1080x576 with 1 Axes>"
            ]
          },
          "metadata": {
            "tags": [],
            "needs_background": "light"
          }
        }
      ]
    },
    {
      "cell_type": "markdown",
      "metadata": {
        "id": "aTHgaGaGevxu"
      },
      "source": [
        "Por default, el árbol usa el coeficiente de Gini para separar las clases (ver documentación de scikit-learn y clase teórica). En cada nodo y cada hoja podemos ver la cantidad de instancias dentro, y a qué clase pertenece. Uno de los factores más importantes que usa el árbol para separar es el precio de los inmuebles.\n",
        "\n",
        "Recordemos que si no especificamos la profundidad del árbol, esta es la máxima posible, lo cual puede llevar a overfittear. Podemos agregarle un término de regularización y tratar de estimarlo con cross-validation:"
      ]
    },
    {
      "cell_type": "code",
      "metadata": {
        "colab": {
          "base_uri": "https://localhost:8080/"
        },
        "id": "CGPiNgTp9V5C",
        "outputId": "a9795049-d3e6-49ae-da92-3af85d8936ac"
      },
      "source": [
        "# Tomamos un valor de alpha entre 10^-10 y 1. Usamos un barrido logaritmico.\n",
        "for alpha in np.logspace(-10, 0, 11):\n",
        "\n",
        "    # Creamos el modelo para un dado valor de alpha\n",
        "    dtr = DecisionTreeClassifier(ccp_alpha = alpha)\n",
        "\n",
        "    # Calculamos los scores al hacer cross-validation con 5 folds \n",
        "    # Al especificar el valor de cv, cross_val_score hace cross-validation estratificado\n",
        "    scores = cross_val_score(dtr, X_train, y_train, cv = 5)\n",
        "    \n",
        "    # Imprimimos el valor de alpha y el score medio\n",
        "    print('Valor de alpha {} - Score medio = {}'.format(alpha, scores.mean()))"
      ],
      "execution_count": null,
      "outputs": [
        {
          "output_type": "stream",
          "text": [
            "Valor de alpha 1e-10 - Score medio = 0.6548640835721642\n",
            "Valor de alpha 1e-09 - Score medio = 0.656357861564993\n",
            "Valor de alpha 1e-08 - Score medio = 0.6538678180171462\n",
            "Valor de alpha 1e-07 - Score medio = 0.6533678242205431\n",
            "Valor de alpha 1e-06 - Score medio = 0.6533715462587313\n",
            "Valor de alpha 1e-05 - Score medio = 0.6613391893400826\n",
            "Valor de alpha 0.0001 - Score medio = 0.656857855361596\n",
            "Valor de alpha 0.001 - Score medio = 0.648403865956998\n",
            "Valor de alpha 0.01 - Score medio = 0.5537970992915721\n",
            "Valor de alpha 0.1 - Score medio = 0.5049800870956935\n",
            "Valor de alpha 1.0 - Score medio = 0.5049800870956935\n"
          ],
          "name": "stdout"
        }
      ]
    },
    {
      "cell_type": "markdown",
      "metadata": {
        "id": "AmaSO9o4fSTr"
      },
      "source": [
        "Tomemos el valor de $\\alpha$ donde es el score sea máximo y veamos cómo le va a nuestro modelo en el set de testeo:"
      ]
    },
    {
      "cell_type": "code",
      "metadata": {
        "colab": {
          "base_uri": "https://localhost:8080/"
        },
        "id": "RTr8oYO-RltC",
        "outputId": "472b8a93-c822-4067-8d0f-f0812fcd4698"
      },
      "source": [
        "alpha = 10**-5\n",
        "\n",
        "# Creamos el modelo para un dado valor de alpha\n",
        "dtr = DecisionTreeClassifier(ccp_alpha = alpha)\n",
        "\n",
        "# Entrenamos el modelo\n",
        "dtr.fit(X_train, y_train)\n",
        "   \n",
        "# Calculamos el score en el set de testeo\n",
        "dtr.score(X_test, y_test)"
      ],
      "execution_count": null,
      "outputs": [
        {
          "output_type": "execute_result",
          "data": {
            "text/plain": [
              "0.75"
            ]
          },
          "metadata": {
            "tags": []
          },
          "execution_count": 32
        }
      ]
    },
    {
      "cell_type": "markdown",
      "metadata": {
        "id": "fIlblP4sfs15"
      },
      "source": [
        "Lo que vemos es que agregarle regularización podemos obtener una performance un poquito más grande, pero no parece ser muy significativa. Vamos a probar luego con otro modelo como Random Forest para ver si mejora. \n",
        "\n",
        "Igualmente recordemos antes que, como muchos de los clasificadores en scikit-learn, lo que obtenemos con estos es una probabilidad de a qué clase pertenece cada instancia:"
      ]
    },
    {
      "cell_type": "code",
      "metadata": {
        "colab": {
          "base_uri": "https://localhost:8080/"
        },
        "id": "7FxXigRFZnKZ",
        "outputId": "527ee00c-e7af-424f-835a-c926d3d9c1f4"
      },
      "source": [
        "dtr.predict_proba(X_test)"
      ],
      "execution_count": null,
      "outputs": [
        {
          "output_type": "execute_result",
          "data": {
            "text/plain": [
              "array([[1.        , 0.        , 0.        , 0.        , 0.        ],\n",
              "       [1.        , 0.        , 0.        , 0.        , 0.        ],\n",
              "       [1.        , 0.        , 0.        , 0.        , 0.        ],\n",
              "       ...,\n",
              "       [0.07142857, 0.        , 0.        , 0.        , 0.92857143],\n",
              "       [0.        , 1.        , 0.        , 0.        , 0.        ],\n",
              "       [0.        , 1.        , 0.        , 0.        , 0.        ]])"
            ]
          },
          "metadata": {
            "tags": []
          },
          "execution_count": 34
        }
      ]
    },
    {
      "cell_type": "markdown",
      "metadata": {
        "id": "OHQgHir0kugv"
      },
      "source": [
        "donde, para identificar las columnas de la matriz anterior, podemos inspeccionar cómo están ordenadas las clases con el atributo *classes_*:"
      ]
    },
    {
      "cell_type": "code",
      "metadata": {
        "colab": {
          "base_uri": "https://localhost:8080/"
        },
        "id": "q-r6Md8MZ2w5",
        "outputId": "047e3c38-2c45-48f5-9baf-1216eacaf390"
      },
      "source": [
        "print(dtr.classes_)"
      ],
      "execution_count": null,
      "outputs": [
        {
          "output_type": "stream",
          "text": [
            "['A' 'B' 'C' 'D' 'E']\n"
          ],
          "name": "stdout"
        }
      ]
    },
    {
      "cell_type": "markdown",
      "metadata": {
        "id": "VodsVgQal3iw"
      },
      "source": [
        "Si el problema fuera de clasificación binaria, recordemos que con las probabilidades podemos barrer en umbrales y construir matrices de confusión, realizar la curva ROC y calcular el AUC."
      ]
    },
    {
      "cell_type": "markdown",
      "metadata": {
        "id": "kPVnfUz-g2Cc"
      },
      "source": [
        "### Random forest para clasificación\n",
        "\n",
        "Probemos con otro modelo a ver si mejora un poco nuestra predicción, en este caso con un ensamble de 100 árboles de decisión que constituyen nuestro Random Forest."
      ]
    },
    {
      "cell_type": "code",
      "metadata": {
        "id": "EzoPbMxaaNa_"
      },
      "source": [
        "# Construcción del clasificador como Random Forest\n",
        "rfc = RandomForestClassifier(n_estimators=100)"
      ],
      "execution_count": null,
      "outputs": []
    },
    {
      "cell_type": "code",
      "metadata": {
        "colab": {
          "base_uri": "https://localhost:8080/"
        },
        "id": "oq2aaTxXbPi_",
        "outputId": "d3da6b55-a9fd-4cb4-df2e-48882e5291ee"
      },
      "source": [
        "# Entrenamiento del modelo \n",
        "rfc.fit(X_train, y_train)"
      ],
      "execution_count": null,
      "outputs": [
        {
          "output_type": "execute_result",
          "data": {
            "text/plain": [
              "RandomForestClassifier(bootstrap=True, ccp_alpha=0.0, class_weight=None,\n",
              "                       criterion='gini', max_depth=None, max_features='auto',\n",
              "                       max_leaf_nodes=None, max_samples=None,\n",
              "                       min_impurity_decrease=0.0, min_impurity_split=None,\n",
              "                       min_samples_leaf=1, min_samples_split=2,\n",
              "                       min_weight_fraction_leaf=0.0, n_estimators=100,\n",
              "                       n_jobs=None, oob_score=False, random_state=None,\n",
              "                       verbose=0, warm_start=False)"
            ]
          },
          "metadata": {
            "tags": []
          },
          "execution_count": 37
        }
      ]
    },
    {
      "cell_type": "markdown",
      "metadata": {
        "id": "yKu1nbWtkRz-"
      },
      "source": [
        "Veamos las probabilidades que nos devuelve al algortimo para el set de testeo. Recordemos que este es el resultado de la votación de cada árbol incluído en el bosque (si cada árbol da un probabilidad, entra como un promedio pesado):"
      ]
    },
    {
      "cell_type": "code",
      "metadata": {
        "colab": {
          "base_uri": "https://localhost:8080/"
        },
        "id": "dMtDMkFhkIAn",
        "outputId": "ea30d04a-c11d-477d-fd39-da7fb9be3a66"
      },
      "source": [
        "rfc.predict_proba(X_test)"
      ],
      "execution_count": null,
      "outputs": [
        {
          "output_type": "execute_result",
          "data": {
            "text/plain": [
              "array([[0.41     , 0.1      , 0.01     , 0.       , 0.48     ],\n",
              "       [0.5      , 0.06     , 0.1      , 0.11     , 0.23     ],\n",
              "       [0.73     , 0.21     , 0.04     , 0.       , 0.02     ],\n",
              "       ...,\n",
              "       [0.0673698, 0.       , 0.       , 0.       , 0.9326302],\n",
              "       [0.       , 1.       , 0.       , 0.       , 0.       ],\n",
              "       [0.66     , 0.32     , 0.02     , 0.       , 0.       ]])"
            ]
          },
          "metadata": {
            "tags": []
          },
          "execution_count": 39
        }
      ]
    },
    {
      "cell_type": "markdown",
      "metadata": {
        "id": "VWc4fKRFkZeH"
      },
      "source": [
        "Asignando la clase más probable a cada instancia, podemos comparar con las etiquetas reales:"
      ]
    },
    {
      "cell_type": "code",
      "metadata": {
        "id": "aIb7ESJTkOoj",
        "colab": {
          "base_uri": "https://localhost:8080/"
        },
        "outputId": "54e9bc7f-3210-4d06-f39c-75855c3a1c43"
      },
      "source": [
        "# Performance del modelo \n",
        "rfc.score(X_test, y_test)"
      ],
      "execution_count": null,
      "outputs": [
        {
          "output_type": "execute_result",
          "data": {
            "text/plain": [
              "0.7723214285714286"
            ]
          },
          "metadata": {
            "tags": []
          },
          "execution_count": 40
        }
      ]
    },
    {
      "cell_type": "markdown",
      "metadata": {
        "id": "n8uG15-vh8xm"
      },
      "source": [
        "Si bien este número puede fluctuar cada vez que corramos esta notebook, la performance del modelo es en general mucho mejor que con un único árbol. \n",
        "Veamos qué nos dice la lista de features más explicativos:"
      ]
    },
    {
      "cell_type": "code",
      "metadata": {
        "colab": {
          "base_uri": "https://localhost:8080/"
        },
        "id": "qdoT9TKWbYPZ",
        "outputId": "2733c587-7037-4b26-fe86-7b9e2896e70c"
      },
      "source": [
        "# Este atributo tiene una medida de la importancia de cada feature\n",
        "feature_importance = rfc.feature_importances_ \n",
        "\n",
        "print('Features: {}'.format(features))\n",
        "print('Importancia = {}'.format(feature_importance))"
      ],
      "execution_count": null,
      "outputs": [
        {
          "output_type": "stream",
          "text": [
            "Features: ['M2', 'AMBIENTES', 'ANTIGUEDAD', 'BAÑOS', 'log10_DOLARES']\n",
            "Importancia = [0.31106202 0.06474806 0.20312534 0.02920077 0.39186381]\n"
          ],
          "name": "stdout"
        }
      ]
    },
    {
      "cell_type": "markdown",
      "metadata": {
        "id": "FbPArPrOnWG6"
      },
      "source": [
        "Algo que definitivamente está bien es que las variables \"cantidad de ambientes\" y \"cantidad de baños\" no parecen ser muy informativos de la zona (en definitiva, podemos encontrar departamentos con una dada cantidad de ambientes y baños en cualquier parte de la ciudad). A diferencia del problema de regresión donde teníamos un feature muy dominante, las variables $m^2$, antigüedad y precio tienen un peso similar."
      ]
    },
    {
      "cell_type": "markdown",
      "metadata": {
        "id": "1kpTePC4vf6G"
      },
      "source": [
        "## Cosas para llevarse de esta notebook \n",
        "\n",
        "Podemos constuir los árboles de decisión para clasificación en *scikit-learn* con el siguiente código:\n",
        "~~~\n",
        "from sklearn.tree import DecisionTreeClassifier\n",
        "\n",
        "dtc = DecisionTreeClassifier()\n",
        "~~~\n",
        "donde podemos indicarle los parámetros:\n",
        "~~~\n",
        "max_depth: profundidad del árbol\n",
        "ccp_alpha: constante de regularización\n",
        "min_samples_leaf: mínima cantidad de instancias en cada hoja\n",
        "max_leaf_nodes: máxima cantidad de hojas en el árbol\n",
        "~~~\n",
        "notar que estos argumentos compiten entre sí y no pueden fijarse siempre en simultáneo. Para ajustar el modelo es igual a otros modelos:\n",
        "~~~\n",
        "dtc.fit(X_train, y_train)\n",
        "~~~\n",
        "y para sacar la performance:\n",
        "~~~\n",
        "dtc.score(X_test, y_test)\n",
        "~~~\n",
        "Si no sabemos la profundidad del árbol se la podemos preguntar así:\n",
        "~~~\n",
        "dtc.get_depth()\n",
        "~~~\n",
        "Para obtener las probabilidades de que las instancias pertenezcan a una dada clase lo hacemos así:\n",
        "~~~\n",
        "dtc.predict_proba(X_test)\n",
        "~~~\n",
        "\n",
        "Para Random Forest la sintaxis es muy similar: \n",
        "~~~\n",
        "from sklearn.ensemble import RandomForestClassifier\n",
        "\n",
        "rfc = RandomForestClassifier(n_estimators = 100)\n",
        "~~~\n",
        "donde por default el número de árboles en el ensamble es de 100. La mayoría del resto de los argumentos son los mismos que para los árboles de decisión. Para ver la importancia de cada feature e interpretar un poco el algoritmo podemos verlo así:\n",
        "~~~\n",
        "rfc.feature_importance_\n",
        "~~~"
      ]
    },
    {
      "cell_type": "markdown",
      "metadata": {
        "id": "9lkW3ScayQrN"
      },
      "source": [
        "## Cosas para hacer\n",
        "\n",
        "- ¿Podemos hacer algo mejor con Random Forest? Quizás variar algún que otro parámetro y hacer cross-validation sea una buena idea...\n",
        "- Una vez que construyamos un buen modelo, es significativamente mejor que un modelo nulo? ¿Cómo lo implementaría?"
      ]
    }
  ]
}