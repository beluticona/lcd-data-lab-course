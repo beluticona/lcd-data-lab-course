{
  "nbformat": 4,
  "nbformat_minor": 0,
  "metadata": {
    "colab": {
      "name": "Clase 10: ROC AUC.ipynb",
      "provenance": [],
      "collapsed_sections": [],
      "toc_visible": true
    },
    "kernelspec": {
      "name": "python3",
      "display_name": "Python 3"
    },
    "language_info": {
      "name": "python"
    }
  },
  "cells": [
    {
      "cell_type": "markdown",
      "metadata": {
        "id": "OlDs3C1E0uex"
      },
      "source": [
        "# Más sobre evaluación de modelos y selección de features (primera parte)\n",
        "\n",
        "En este primer notebook vamos a buscar entender como el umbral para asignar las clases nos permite ajustar el error tipo 1 y tipo 2, resolver el problema de clases desbalanceadas, y conseguir una métrica de performance que nos diga qué tan bueno es el clasificador independientemente de valores específicos para los errores tipo 1 y  2. \n",
        "\n",
        "Seguimos trabajando con los datos de INTA, así que repetimos el proceso para cargarlos."
      ]
    },
    {
      "cell_type": "code",
      "metadata": {
        "id": "IoP97HOG0tbB",
        "colab": {
          "base_uri": "https://localhost:8080/"
        },
        "outputId": "1c535684-f7a4-49ac-873c-76e634330762"
      },
      "source": [
        "# Como siempre, tratamos de traer todos los paquetes al ppio\n",
        "from google.colab import drive # Para montar nuestro drive en la consola\n",
        "import matplotlib.pylab as plt # Para gráficos\n",
        "import numpy as np # Para manejo de arrays, operaciones matemáticas, etc.\n",
        "from sklearn.linear_model import LogisticRegression # El método de regresión logística que vamos a usar\n",
        "import pandas as pd # Para manejo de base de datos\n",
        "\n",
        "# Traemos los datos\n",
        "drive.mount('/content/drive') # Montamos nuestra unidad de Google Drive\n",
        "\n",
        "filename = '/content/drive/My Drive/LaboDatos2021/datosDiariosSanFernandoINTA.xls'\n",
        "\n",
        "d = pd.read_excel(filename) # Levantamos los datos, en este caso, con el método pd.read_excel\n"
      ],
      "execution_count": null,
      "outputs": [
        {
          "output_type": "stream",
          "text": [
            "Mounted at /content/drive\n"
          ],
          "name": "stdout"
        }
      ]
    },
    {
      "cell_type": "markdown",
      "metadata": {
        "id": "P6xLK-YL0zMV"
      },
      "source": [
        "Luego, filtramos el dataframe descartando columnas con datos faltantes, seleccionamos un subconjunto de columnas, y las renombramos."
      ]
    },
    {
      "cell_type": "code",
      "metadata": {
        "id": "ieZygW8b1ezR"
      },
      "source": [
        "d_filtrado = d[['Temperatura_Abrigo_150cm_Maxima',\n",
        "                'Temperatura_Abrigo_150cm_Minima',\n",
        "                'Precipitacion_Pluviometrica',\n",
        "                'Velocidad_Viento_Maxima',\n",
        "                'Rocio_Medio',\n",
        "                'Humedad_Media', 'Tesion_Vapor_Media']].dropna().copy() # Nos quedamos con ciertos campos del data set, para facilitar el trabajo. Y para limitarlo.\n",
        "                                                  # Notar que primero aplicamos el método .dropna() para eliminar filas que tengan alguna columna con NaN \n",
        "                                                  # Ademas, el metodo copy() nos asegura que estemos creando un nuevo dataframe \n",
        "d_filtrado.rename({'Temperatura_Abrigo_150cm_Maxima' : 'temperaturaMaxima',\n",
        "                   'Temperatura_Abrigo_150cm_Minima' : 'temperaturaMinima',\n",
        "                   'Precipitacion_Pluviometrica' : 'precipitacion',\n",
        "                   'Humedad_Media' : 'humedad',\n",
        "                   'Rocio_Medio' : 'rocio',\n",
        "                   'Velocidad_Viento_Maxima' : 'viento', 'Tesion_Vapor_Media': 'vapor'},\n",
        "                  axis = 1,\n",
        "                  inplace = True) # Esto toma como input un diccionario en el cual las llaves son los nombres actuales de columnas, y los valores los nombres nuevos (a los que queremos renombrar)\n",
        "                                  # axis = 1 es porque queremos renombrar columnas, y inplace=True es porque queremos \"pisar\" el dataframe al renombrarlo"
      ],
      "execution_count": null,
      "outputs": []
    },
    {
      "cell_type": "markdown",
      "metadata": {
        "id": "H4bYcStI1h07"
      },
      "source": [
        "Finalmente, construimos una variable con las etiquetas de los días lluviosos.\n",
        "\n",
        "\n"
      ]
    },
    {
      "cell_type": "code",
      "metadata": {
        "id": "nRWEbGSP1maP",
        "colab": {
          "base_uri": "https://localhost:8080/"
        },
        "outputId": "3027a79d-7124-4a24-a2c3-ec6a3bb67038"
      },
      "source": [
        "d_filtrado['llueveNollueve'] = 0 # empezamos con una columna llena de 0. \n",
        "indice =  d_filtrado['precipitacion'] > 0  # esto me da los valores del indice para los cuales hay precipitacion mayor a 0\n",
        "d_filtrado.loc[indice, 'llueveNollueve'] = 1 # entonces para esos valores del indice pongo 1, porque en el dia correspondiente, llovio\n",
        "\n",
        "d_filtrado['llueveNollueve'].value_counts()"
      ],
      "execution_count": null,
      "outputs": [
        {
          "output_type": "execute_result",
          "data": {
            "text/plain": [
              "0    717\n",
              "1    337\n",
              "Name: llueveNollueve, dtype: int64"
            ]
          },
          "metadata": {
            "tags": []
          },
          "execution_count": 3
        }
      ]
    },
    {
      "cell_type": "markdown",
      "metadata": {
        "id": "ZByp8DYg1vnv"
      },
      "source": [
        "# Efecto del umbral de clasificación en el error\n",
        "\n",
        "Vamos a construir un clasificador **sin balancear** con todas las features, pero en vez de obtener las predicciones binarias, vamos a obtener las probabilidades."
      ]
    },
    {
      "cell_type": "code",
      "metadata": {
        "id": "7tHzNlNf2MD8",
        "colab": {
          "base_uri": "https://localhost:8080/"
        },
        "outputId": "b599cf4a-1894-467e-8f42-d3f7f1cc3f8f"
      },
      "source": [
        "from sklearn.preprocessing import MinMaxScaler\n",
        "\n",
        "# Definamos la matriz X\n",
        "campos = ['temperaturaMinima', 'temperaturaMaxima', 'humedad', 'rocio', 'vapor'] # Lista que contiene las features de interés.\n",
        "X = d_filtrado[campos].values # En este caso no hace falta reshapear, porque ya tiene la forma que queremos\n",
        "y = d_filtrado['llueveNollueve'] # Nuestra etiqueta sigue siende la misma de antes\n",
        "\n",
        "scaler = MinMaxScaler() # primero creo un objeto MinMaxScaler. Por defecto, esto normaliza los datos al intervalo [0,1]\n",
        "scaler.fit(X) # encuentro los parametros para el escaleo\n",
        "X = scaler.transform(X) # aplico la transformacion\n",
        "\n",
        "regLog = LogisticRegression(penalty = 'none', max_iter=10000) # Inicializamos nuevamente el modelo\n",
        "regLog.fit(X, y) # Ajustamos el modelo con los parámetros\n",
        "probas = regLog.predict_proba(X)  # este es el metodo para obtener las predicciones de probabilidades en base a la matriz features\n",
        "print(probas)\n",
        "\n"
      ],
      "execution_count": null,
      "outputs": [
        {
          "output_type": "stream",
          "text": [
            "[[0.59264569 0.40735431]\n",
            " [0.66611066 0.33388934]\n",
            " [0.7071929  0.2928071 ]\n",
            " ...\n",
            " [0.52618364 0.47381636]\n",
            " [0.61590414 0.38409586]\n",
            " [0.64470929 0.35529071]]\n"
          ],
          "name": "stdout"
        }
      ]
    },
    {
      "cell_type": "markdown",
      "metadata": {
        "id": "AmqcWO6Q4NnT"
      },
      "source": [
        "La primera columna es $P(y=0|x,\\beta)$. \n",
        "\n",
        "La segunda es $P(y=1|x,\\beta)$. \n",
        "\n",
        "Entonces, el clasificador por defecto predice etiqueta $1$ si $P(y=1|x,\\beta) > 0.5$, o sea, cuando la segunda columna es mayor que 0.5 y la etiqueta $0$ en caso contrario.\n",
        "\n",
        "Pero podemos introducir un umbral arbitrario $T$ para determinar la etiqueta $1$ si $P(y=1|x,\\beta) > T$. \n",
        "\n",
        "Veamos como queda la matriz de confusión para distintas elecciones de T.\n",
        "\n",
        "Ademas, vamos a calcular dos medidas de performance útiles para más adelante:\n",
        "\n",
        "*   Tasa de verdaderos positivos (sensibilidad)$ = \\frac{TP}{TP+FN}$\n",
        "*   Tasa de falsos positivos$ = \\frac{FP}{FP+TN}$\n",
        "\n",
        "donde TP = verdaderos positivos, FN = falsos negativos, FP = falsos positivos y TN = verdaderos negativos.\n"
      ]
    },
    {
      "cell_type": "code",
      "metadata": {
        "id": "bT7T-JVP47PJ",
        "colab": {
          "base_uri": "https://localhost:8080/"
        },
        "outputId": "1464104a-82e4-4683-b4f8-3f7a63d0f334"
      },
      "source": [
        "from sklearn.metrics import confusion_matrix\n",
        "\n",
        "def TPR_FPR(cm): # computa la tasa de verdaderos y falsos positivos a partir de la matriz de confusion\n",
        "  TPR = cm[1,1]/(cm[1,1]+cm[0,1])\n",
        "  FPR = cm[1,0]/(cm[1,0]+cm[0,0])\n",
        "  return [TPR,FPR] # devuelve una lista donde el primer elemento es la tasa de verdaderos positivos y el segundo la tasa de falsos negativos\n",
        "\n",
        "T = 0.5 # definimos el umbral\n",
        "ypred = np.zeros(probas.shape[0]) # armamos un vector que tiene todos ceros y tiene la longitud del vector de etiquetas\n",
        "ypred[probas[:,1]>T] = 1 # donde la probabilidad es mayor que T, ponemos 1\n",
        "cm = confusion_matrix(ypred, y) # metemos en la matriz de confusion\n",
        "metricas = TPR_FPR(cm)\n",
        "\n",
        "print('Matriz de confusion del modelo es:')\n",
        "print(cm)\n",
        "print('Tasa de verdaderos positivos: {}'.format(round(metricas[0],4)))  \n",
        "print('Tasa de falsos positivos: {}'.format(round(metricas[1],4)))  \n",
        "\n"
      ],
      "execution_count": null,
      "outputs": [
        {
          "output_type": "stream",
          "text": [
            "Matriz de confusion del modelo es:\n",
            "[[646 209]\n",
            " [ 71 128]]\n",
            "Tasa de verdaderos positivos: 0.3798\n",
            "Tasa de falsos positivos: 0.099\n"
          ],
          "name": "stdout"
        }
      ]
    },
    {
      "cell_type": "markdown",
      "metadata": {
        "id": "JJmnuzTnOaJl"
      },
      "source": [
        "Esto es lo que ya sabíamos del notebook pasado: como el dataset está desbalanceado, tendemos a detectar pocos verdaderos positivos (días de lluvia) a cambio de que haya pocos falsos positivos. \n",
        "\n",
        "**En otras palabras: el clasificador está sesgado para predecir que no llueve.**\n",
        "\n",
        "Pero si bajamos el umbral T, deberíamos encontrar que se hace más fácil predecir que llueve, y entonces que la matriz se balancea:"
      ]
    },
    {
      "cell_type": "code",
      "metadata": {
        "id": "JK-3v2VtO2r9",
        "colab": {
          "base_uri": "https://localhost:8080/"
        },
        "outputId": "02d35caf-e529-4a4e-e892-d5c8807c5466"
      },
      "source": [
        "T = 0.3 # probamos con un umbral menor a 0.5\n",
        "ypred = np.zeros(probas.shape[0]) # armamos un vector que tiene todos ceros y tiene la longitud del vector de etiquetas\n",
        "ypred[probas[:,1]>T] = 1 # donde la probabilidad es mayor que T, ponemos 1\n",
        "cm = confusion_matrix(ypred, y) # metemos en la matriz de confusion\n",
        "metricas = TPR_FPR(cm)\n",
        "\n",
        "print('Matriz de confusion del modelo es:')\n",
        "print(cm)\n",
        "print('Tasa de verdaderos positivos: {}'.format(round(metricas[0],4)))  \n",
        "print('Tasa de falsos positivos: {}'.format(round(metricas[1],4))) "
      ],
      "execution_count": null,
      "outputs": [
        {
          "output_type": "stream",
          "text": [
            "Matriz de confusion del modelo es:\n",
            "[[451  99]\n",
            " [266 238]]\n",
            "Tasa de verdaderos positivos: 0.7062\n",
            "Tasa de falsos positivos: 0.371\n"
          ],
          "name": "stdout"
        }
      ]
    },
    {
      "cell_type": "markdown",
      "metadata": {
        "id": "s4KgnxekO_QC"
      },
      "source": [
        "Ahora ya la tasa de detección de verdaderos positivos es >0.5.\n",
        "Naturalmente, también creció la tasa de falsos positivos.\n",
        "\n",
        "Si hubiese elegido un umbral T > 0.5, el efecto hubiese sido el opuesto."
      ]
    },
    {
      "cell_type": "code",
      "metadata": {
        "id": "c-PekUsGPMRI",
        "colab": {
          "base_uri": "https://localhost:8080/"
        },
        "outputId": "5eeed813-0dcc-46f2-ed5a-e5e029a18d8e"
      },
      "source": [
        "T = 0.7 # probamos con un umbral mayor a 0.5\n",
        "ypred = np.zeros(probas.shape[0]) # armamos un vector que tiene todos ceros y tiene la longitud del vector de etiquetas\n",
        "ypred[probas[:,1]>T] = 1 # donde la probabilidad es mayor que T, ponemos 1\n",
        "cm = confusion_matrix(ypred, y) # metemos en la matriz de confusion\n",
        "metricas = TPR_FPR(cm)\n",
        "\n",
        "print('Matriz de confusion del modelo es:')\n",
        "print(cm)\n",
        "print('Tasa de verdaderos positivos: {}'.format(round(metricas[0],4)))  \n",
        "print('Tasa de falsos positivos: {}'.format(round(metricas[1],4))) "
      ],
      "execution_count": null,
      "outputs": [
        {
          "output_type": "stream",
          "text": [
            "Matriz de confusion del modelo es:\n",
            "[[712 310]\n",
            " [  5  27]]\n",
            "Tasa de verdaderos positivos: 0.0801\n",
            "Tasa de falsos positivos: 0.007\n"
          ],
          "name": "stdout"
        }
      ]
    },
    {
      "cell_type": "markdown",
      "metadata": {
        "id": "tJosrb68PP_q"
      },
      "source": [
        "En resúmen: para cada valor de T, el modelo tiene una tasa de verdaderos positivos y una de falsos positivos. \n",
        "\n",
        "En general, lo ideal es que la tasa de verdaderos positivos sea alta mientras que la de falsos positivos sea baja. **Pero... ¿para qué umbral?**\n",
        "\n",
        "\n"
      ]
    },
    {
      "cell_type": "markdown",
      "metadata": {
        "id": "NH9pjT27Ws8S"
      },
      "source": [
        "# Área bajo la curva ROC\n",
        "\n",
        "Vamos a construir un indicador que surja de comparar la tasa de verdaderos positivos vs. la tasa de falsos positivos **para todo valor posible de T.**\n",
        "\n",
        "Para eso, consideremos varios valores de T y visualicemos el valor de ambas tasas para cada uno de ellos:"
      ]
    },
    {
      "cell_type": "code",
      "metadata": {
        "id": "n9uxrEvGP9C3",
        "colab": {
          "base_uri": "https://localhost:8080/",
          "height": 509
        },
        "outputId": "a0786cfa-06c4-4da9-8a80-9cf96ca25091"
      },
      "source": [
        "Ts = np.arange(0,1,0.05) # T va desde 0 a 1 en pasos de 0.05\n",
        "print(Ts)\n",
        "TPRs = []  # lista donde van a ir a parar mis tasas de verdaderos positivos\n",
        "FPRs = []  # lista donde van a ir a parar mis tasas de falsos positivos\n",
        "for T in Ts: # recorre los umbrales en la lista Ts\n",
        "  ypred = np.zeros(probas.shape[0]) # armamos un vector que tiene todos ceros y tiene la longitud del vector de etiquetas\n",
        "  ypred[probas[:,1]>T] = 1 # donde la probabilidad es mayor que T, ponemos 1\n",
        "  cm = confusion_matrix(ypred, y) # metemos en la matriz de confusion\n",
        "  metricas = TPR_FPR(cm) # calculamos las metricas con la función definida más arriba\n",
        "  TPRs.append(metricas[0]) # guardamos los resultados en las listas respectivas\n",
        "  FPRs.append(metricas[1])\n",
        "\n",
        "fig, ax = plt.subplots(figsize = (10,7))\n",
        "ax.set_title('Verdaderos positivos vs. falsos positivos')\n",
        "ax.scatter(FPRs,TPRs)\n",
        "ax.set_xlabel('Tasa de falsos positivos') # Etiqueta del eje x\n",
        "ax.set_ylabel('Tasa de verdaderos positivos') # Etiqueta del eje y\n",
        "\n"
      ],
      "execution_count": null,
      "outputs": [
        {
          "output_type": "stream",
          "text": [
            "[0.   0.05 0.1  0.15 0.2  0.25 0.3  0.35 0.4  0.45 0.5  0.55 0.6  0.65\n",
            " 0.7  0.75 0.8  0.85 0.9  0.95]\n"
          ],
          "name": "stdout"
        },
        {
          "output_type": "execute_result",
          "data": {
            "text/plain": [
              "Text(0, 0.5, 'Tasa de verdaderos positivos')"
            ]
          },
          "metadata": {
            "tags": []
          },
          "execution_count": 9
        },
        {
          "output_type": "display_data",
          "data": {
            "image/png": "[encoded data removed]",
            "text/plain": [
              "<Figure size 720x504 with 1 Axes>"
            ]
          },
          "metadata": {
            "tags": [],
            "needs_background": "light"
          }
        }
      ]
    },
    {
      "cell_type": "markdown",
      "metadata": {
        "id": "no82DrBlRbS3"
      },
      "source": [
        "Repitamos nuevamente tomando una separación mucho más pequeña entre los T:"
      ]
    },
    {
      "cell_type": "code",
      "metadata": {
        "id": "YXqB3rqkRjH2",
        "colab": {
          "base_uri": "https://localhost:8080/",
          "height": 475
        },
        "outputId": "ebcb4f04-d56f-44c7-9134-b44cd0fa5a6f"
      },
      "source": [
        "Ts = np.arange(0,1,0.001) # T va desde 0 a 1 en pasos de 0.001\n",
        "TPRs = []  # lista donde van a ir a parar mis tasas de verdaderos positivos\n",
        "FPRs = []  # lista donde van a ir a parar mis tasas de falsos positivos\n",
        "for T in Ts: # recorre los umbrales en la lista Ts\n",
        "  ypred = np.zeros(probas.shape[0]) # armamos un vector que tiene todos ceros y tiene la longitud del vector de etiquetas\n",
        "  ypred[probas[:,1]>T] = 1 # donde la probabilidad es mayor que T, ponemos 1\n",
        "  cm = confusion_matrix(ypred, y) # metemos en la matriz de confusion\n",
        "  metricas = TPR_FPR(cm) # calculamos las metricas con la función definida más arriba\n",
        "  TPRs.append(metricas[0]) # guardamos los resultados en las listas respectivas\n",
        "  FPRs.append(metricas[1])\n",
        "\n",
        "fig, ax = plt.subplots(figsize = (10,7))\n",
        "ax.set_title('Verdaderos positivos vs. falsos positivos')\n",
        "ax.scatter(FPRs,TPRs)\n",
        "ax.set_xlabel('Tasa de falsos positivos') # Etiqueta del eje x\n",
        "ax.set_ylabel('Tasa de verdaderos positivos') # Etiqueta del eje y"
      ],
      "execution_count": null,
      "outputs": [
        {
          "output_type": "execute_result",
          "data": {
            "text/plain": [
              "Text(0, 0.5, 'Tasa de verdaderos positivos')"
            ]
          },
          "metadata": {
            "tags": []
          },
          "execution_count": 10
        },
        {
          "output_type": "display_data",
          "data": {
            "image/png": "[encoded data removed]",
            "text/plain": [
              "<Figure size 720x504 with 1 Axes>"
            ]
          },
          "metadata": {
            "tags": [],
            "needs_background": "light"
          }
        }
      ]
    },
    {
      "cell_type": "markdown",
      "metadata": {
        "id": "HvJvjMQPRw_4"
      },
      "source": [
        "Vemos que se va armando una curva. Esta curva se llama \"curva ROC\" (por  *receiver operating characteristic curve*) y representa la capacidad de detectar casos positivos vs. el error cometido (falsa detección de casos positivos) a medida que el umbral se va cambiando entre todos sus valores posibles.\n",
        "\n",
        "Consideremos las siguientes observaciones:\n",
        "\n",
        "1.   Si el clasificador es a \"nivel chance\", entonces se equivoca tanto como acierta. **Por lo tanto, la tasa de verdaderos positivos es igual a la de falsos positivos, y la curva ROC es la identidad.**\n",
        "\n",
        "2.   La curva es siempre creciente (porque al aumentar el umbral, las etiquetas predichas como positivas son un subconjunto de las predichas como positivas con un umbral menor, y son el subconjunto con mayor probabilidad de efectivamente tener esa etiqueta).\n",
        "\n",
        "3.   Un buen clasificador obtiene un valor **alto** de tasa de verdaderos positivos para un valor **bajo** de tasa de falsos negativos, o sea, tiene que tener un punto cerca de las coordenadas (0,1). Como la curva es creciente, esto significa que un buen clasificador tiene la pinta:\n",
        "\n",
        "![roc.png](data:image/png;base64,iVBORw0KGgoAAAANSUhEUgAAAYgAAAFOCAIAAAATkB3YAAAAAXNSR0IArs4c6QAAAARnQU1BAACxjwv8YQUAAAAJcEhZcwAADsMAAA7DAcdvqGQAAB9FSURBVHhe7d3pmaPKlkZhGdI/2woMwh6swYFjBja0DdURO75AiEFDKjYKYL0Pt24RGlBmSesgieH2DwAqQ5gAVIcwAagOYQJQHcIEoDqECUB1CBOA6hAmANUhTACqQ5gAVIcwAagOYQJQHcIEoDqECUB1CBOA6hAmANUhTACqQ5gAVIcwAagOYQJQHcIEoDqECUB1CBOA6hAmANUhTACqQ5gAVIcwAagOYQJQHZcwDTZNdcO/to/TbBwAllzC1LT9rek08+9fP/y73Zpb0oRGfW/oW7vDkDoAp+MSppCftmk0E2abNjRk6Jo+/n+Y+64mOUoRYQLOyClMt7Zt09+HuLp0Cy1Js9aUe7M+FeoWexTi1lrkCBNwRl5hCuVIf49v62632CeTgpL+/rm4ytW09mYwrX0RJuCMXMKUVotCP8IUS9Lcl9LY2zrNfG7IgSNMwIm5hGnou1iN+IF3TFSYTeP2Kfity2/rvkKYgPNyCVPUt11zC1P4i0bimlR8Ixe6pflvECbgvNzCFIW3XbNtA0JHCqWEMAHn5RomT4QJOC/HMIVmhG403RDyEf4Mf5+tPn2FMAHn5RWmUIyQjdiOqaYrst13RJiA83IJU/r2LQj1GLomTdo08taESwsgTMB5uYQpbaw0TL6PM0MYiWVq77vR/R1hAs7LJUyxGJONKqe+3CWl71ppbAUsJDDpKBRwHm5hyrukzITxcKlmPpZ3lVsqc9ACAFXwCtO4r9yMbWLpslAAp+HSiPQ+a/khd/pQPFyoeQBY49KIvK9c2/ZxP94+H8EyjITRxYfiAPDAa+Vl8mlQ+EvokWb7ltUlAC94ZqJvQ4ZCoEKWwp8xSawrAXjDDusvQ0iU/QkAb3EJU9MNfHsP4M9cwmSfJoW3cOG9XKmjnAB45v/+538/nf777z/duD4uYRo62ydF2lSoHVahtEC2k8JBzEqx83S5MJmwshQ//L4XqunSWzy/QmlBhAl1mwXiV9M1wzSaFaoJhdIlpWkJhAlVmnXBadLC1oQSTWm0Svu9hmOf0sng3MKR7jzQPFCNWT6mk67hTDUyGqqY+2u4TweNi2eXU5U6t11S0v0Hmgd+bdag6aRr+FONMo3Wzes1PNhuKPG4urlH4f/yNpZe39SlBQWaBzzNQvP+pNvvQjXKNFo9l9dw7FHTpd1Qwv/iKpJnj0apSoHmgYVZI/af9Dh2oRplGj0Cl9dwSEPq0dA1/4Zut82+U5UCzeNiZgmoZ9Lj25dqZDR0HC6v4Z17NFKWCNOVzBKw/6THURPVKNPooZzqNawsEaYLmNXh00n3ckaqUabRoyn2Gq5hP11liTCd2iwxy0nXuyTVKNPoAZV5DYckxa/d8paTceOAp1O6WnHKEmE6r1mD0qTLLk81yjR6TIVew8MwLUJjH34/mdLVikuPIdA8jmnWnSeTboCDf9S9VO413Le2TYAZuheTD2WJMB3QrDgvJ90M51pRGp3qNawsEaZazeLy50l3h5NWKXB5DcfDMG18Eh4u8juGnLJEmN4we6lXOOmBYptqlGn0FFxewyEN7cZ5wO3MTl5H/k5VCjR/ebOXev2THjfeoBplGj0LvzCt1+e7M/G+YFGKNF+92cvyIpN+eHxBNTIaOpeSr+HwHi1NIQ1NWGXKs+MUDzMQv5S7dJhmr9LfTnpMOA7VKNPo6ZR8DU+2B0jG2XGK+rbRDUpL9x9ovg6zFuw86UHgFFSjTKNnVHSNqYk77oYpCH+Ms+PUt7ZbrxuLUqT5X5h14Z1JtwSeUo0yjZ5U2dfwkKaQBvuMSbOTyVeqUqD5Hc1a83LSzYD3qEZGQ6fm8hqOa0a911aUTyhLtYZJVwU+pCAZDZ3dL9/1FKcs7R6mWYDSpMuAL6hGmUYvoNhr+IJHF5iVKE26DPiaapRp9BrKvIZDkk58dIFZep5MugHwNdUo0+hlFHoNn/ToArPuvJx0M+A7qpHR0MWUa8Tpji4wi87WpGsDJahGmUavx2vl5SeUpRJhmtUnTboM8KEaZRq9JJcwLbdZSvujhMn1A3Jl6eswzXoUJl0AuFGNMo1elUuYmrYfPwgP+rj3XKNmNKFRXrSI0mHSKOBGNco0emEuYQr5aZv7ridhLsRi6JreTsobsqULSov3bjT/uVmSwqQLADeqkdHQ5TmF6X7Yk8EONjDuuNvGNad6d+KlStiTapRpFH5hanKY4tu6UIrQJ1P58ZioEnajGmUahXFpRFotSsdgsrd196U09rZOM6VZlCLNf4gqYTeqUaZRZC6NGPrO+pC2przv0Gufgt+6Wo/HRJiwD9XIaAiPvFZe/vVtOgbTfavLuCYV38iFbmm+NGXp6zBpHnCgIBkNYcEtTNFye6aQJK8qBcoSYUKVVKNMo1jjGqa9KUuECfVRjTKNYoNjmMKqUdv/a7rh1vbhT+/NvgNliTChMqpRplFs8wpTyFA8EMpM0zlu9/1dmMYqESaUpRoZDeEVlzClb9+CdPaBNHXaKaXZOknv99ICAs1/gjChONUo0yje4BKmtLHSMPk+zgxhJIw3Gyfp/Z5FKdL8JwgTylKNMo3iPS5hCmmYblQ5Ve0uKVQJBalGmUbxNrcwHe0U4YQJpahGmUbxCa8wjfvKzdgmloQJp6UaGQ3hcy6NaJv4hm35IXf6UDxcqPnSLEqR5j9BmPAl1SjTKP7EpRF5X7m27eN+vH0+gmXagGDxoXgxttBI858gTPiGapRpFH/ltfIy5K0DwhqS9Uizfeu1xCAtItD828YqESb8gWqUaRRfcMzEv74NGQqBClkKf8Ykua0rJcoSYcKOVKNMo/iOZ5hksL1TvHdHiZSlL8KkeeA9qpHREErYIUz7UZY+DNNYJcKE96lGmUZRiGOYxp1401TtTryECZ9SjTKNohyvMMWDCqztxBvy5EdLIUzwpBplGkVRLmFq+1ClKH3mnU7cNH5NV9tOvFQJ71ONjIbgwCVMaeMA+w5uGiHtxHtr6tqOiTDhTQqS0RB8OIXp1m6ccSBtFK6Z0ixKkebfQ5jwkmqUaRRuvMK0ta9chTvxEiY8pxplGoUnl0Z08eAmzfKjpDASkzU5e3hZytInYRqrRJiwSjXKNApnTisvQ3zD1s4/5o4H/w7VqOn0TYQJT6hGRkPYhUuY4oZL9pbt1nQhRvcpjjQPI0U3H4j3bzT/BsKEVapRplHsxSdMoT9vT7pNCcrSn8KkeYAqVcAlTP+G7oOpHGWJMOELqlGmUezLJ0w/oiwRJvyVapRpFLsjTIQJohoZDeFHCBNhAitK1SFMhOnqVKNMo/ipS4dprBJhuizVKNMofo0wEabrUo2MhlAHlzANNk2ls6R4HytOWfo8TJrHlShIRkOohkuYmra/NfcNlOx0co2a0YRGedEiCBOeUo0yjaImLmEK+ZnuqRvmQizS4eKCkC1dUFq8d6P5VwjTBalGmUZRGacw3dp82JPBzr7b58MzxeMO3Go5ugBhuhrVKNMo6uMVpvF4TPFtXShF6JOp6nhMhOlSVCOjIdTKpRFptagb4mfe9rbuvpTG3tZppjSLUqT5VwjTRahGmUZRMZdGDH1nfUiHD7iF2TRun4Lfuo2j7n7PFhpp/hXCdAWqUaZR1M1r5eVf33ZNPDPK9LTgrR2lqZ4DxRGm01ONMo2iem5hipbbM4UkeVUpUJYIE4xqlGkUR+Aapr0pS4QJfNR9cI5hCqtGrZ0i/Nb24U/vzb4DZYkwXZtqlGkUh+IVppCh1VOEO273TZhAlc7CJUzp27cgnR88TfkU4U09pwgnTCejGmUaxQG5hCltrDRMvo8zOkV405Y8zveURSnS/CuE6UxUo0yjOCaXMIU0TDeqnGKXFHhQjYyGcGRuYTrCKcIJ0wmoRplGcXBeYRr3lZtJJ8LUTGkWpUjzrxCmo1ONMo3i+Fwa0TbxDdvyQ+70oXi4UPOlWZQizb9CmA5NNco0ilNwaUTeV65t+7gfb5+PYJk2IFh8KF6MLTTS/CuE6bhUI6MhnIjXysuQtw4Ia0jWI832rdcSg7SIQPOvEKYjUo0yjeJcHDPxr29DhkKgQpbCnzFJbutKibJEmM5LNco0itNxCdPjrrqDzXnvjhIpS4TppFSjTKM4I5cw3ZouvH3TzI6UJcJ0RqpRplGclE+YPL96eyJVKdD8K4TpKFQjoyGcmks+bPPu2x5v3h5ZlCLNv0KY6qcaZRrF2fms16Tv5Jpu8knTHlKVAs2/QpgqpxplGsUFuISp6Ya0hXfcUKDtl5OuV5otMdL8K4SpZqpRplFcg0+YbLOlJ5OuV5qy9N79j1UiTBVSjTKN4jJ8GjF0LyYfyhJhOjjVyGgIF+O18vITytKHYdI8KqAaZRrF9biHadhn20qjLL0RprFKhKkeqlGmUVySV5hCjOJeu20fN7Zs7ie8dPvgO1KWCNMBqUaZRnFVLmEKVbKNv+Pn3InG7agD/eC1CpWWFWh+G1WqimpkNIRrcwlT2/WhDnGv3aFrbWtLXWDtaJrfH/aEMNVDQTIawuW5hCnGJ9YhrhnNjqVrnfr9Mb8JUw1Uo0yjgFuY7sf8XoTpYbas2CSj+W2E6edUo0yjgPEK03jM71mJ0pmdNFNabJLR/DbC9FuqUaZRIHNpRDpHU/qIexqm+KG4vc1Ls8XFJhnNbyNMP6QaGQ0Bj1waoWN+N13b67QoOua3fVVXwzG/CdNPqEaZRoEFr5WXobMzpdxprpJjfhOm/alGmUaBNY6ZCHFKx/xOU1XH/CZMO1ONMo0CGzzDJEOe3ClLr8I0Vokw7UM1yjQKbNshTPtRlghTTVQjoyHglTJhGleK3pycKEtvh0nz8KEaZRoF3lAmTGlP3fcn3aw0ZYkwVUA1yjQKvKdMmOJuJo9Tshxs7YNw3aw0W0Kk+Q2EyZtqlGkUeFuhRjweoHIY4vZKbQjE43hsU9yD1+vNnEUp0vwGwuRKNTIaAj7ksvLS2NEF/g2LYy+lYHW/DNNYJcLkQUEyGgI+5xKmuF7UrB9CIIyHSzVTmrJEmH5BNco0CvyJU5juRxeY+fnRBaiSB9Uo0yjwVy6NsM+5m+VBdMNbuPQhuOZLi4s1ml9DmIpTjTKNAl9waUTfxdWi+BVcN3TDvzSNO/H2bRVv5TSP76hGRkPA15xWXoY+pSmKHyqlFaXAthWo4sNvzeOvVKNMo0AJTmEyfbu2E6/fht+EaT+qUaZRoBDPMEkoUZrcKUuEyZlqlGkUKGeHMO1HWSJMnlSjTKNAUYQJH1CNjIYAB15h6gY7De/GpCuVpiwRJgeqUaZRwIdLmGKV7Gs4fRU3/Vou7UPnQwsgTKWpRplGATcujUjnaBq65t94Jl7biTdtQ9Av96ErJN670fwawvQp1SjTKODJJUwhDeO+co/7oAxx1emnpwgnTB9RjTKNAs7cwrR5Jl5bgfIRm2Q0v4YwvU81MhoCduHSiOlqUW/nmOvzZkzpNHOaKc2iFGl+DWF6h2qUaRTYi0sjelstUoyGIaai6dIeczFZhKluqlGmUWBHPo0Y7LOkVsf27qxTYcCm29DxGVO9VKNMo8C+vFZe/vXd5PSWcZ/etMdc/KrOjbJEmP5KNTIaAn7BLUwr3PeYU5YI0+dUo0yjwI/sGSZ3yhJh+pBqlGkU+J0yYUrrQu9PTpQlwvQJ1SjTKPBTZcI0nsnyzUk3K01ZIkxvU40yjQK/ViZM6fu26ZQsB39+wkvCNFKNjIaAOhRqxOOJLWs+4SVhClSjTKNANVxWXg5xwkvNX49qlGkUqIlLmOJ6UfUnvNT8xahGmUaByjiFqdITXo5VumaYVKNMo0B9XBphn3PXeMJLqpRoCKiVSyOqPeHlNcOkGmUaBSrmtPJS6QkvLxgm1SjTKFA3pzCZ+k54ebUwqUaZRoHquYSptykLJUqTO2WJMBnVyGgIOAiXMNlnSV4HXXpCWdoI01ilK4RJQTIaAo7DJ0y3eJxKzewoVSnQ/KOLhEk1yjQKHIpLPtIRK/d48/bIohRp/hFVAo7CZ71Gu8V1XieQ25CqFGj+0enDpBplGgUOyCVMTTeks6HEPXkX5wcPk65Xmi0x0vyjc4dJNTIaAg7LJ0yTjZdWJ12vNGXpYmFSjTKNAkfm04jHo52sTD6UpbUwjVU6WZhUo0yjwMF5rbz8hLJ0mTCpRplGgeNzD9NO21YaZelpmDR/fKpRplHgFLzCFGIU99pt++lBvnvbldePsnSBMKlGRkPAibiEKVQpHUigSZ3IpRh6O7rA4LUKlZYVaH7iNGFSjTKNAufiEqbWDq0b99oduta2ttQF1o4mHvbbRWyS0fzEOcKkGmUaBU7HJUwxPrEOcc1odshK69Tex2Maq3ToMKlGmUaBM3IK0/3QuoswPcyWFZtkNG+mVTpumFQjoyHgvLzC1GyEKbyPm4WjoNgko3lDlYDDcWmEfazUpI+4p2GKH4rb27w0W1xsktG8OXSYVKNMo8DZuTQifft2a7q2/5d2mpse83uIx7F0ERdqNG+oEnA4XisvQxc//57QXPyqzk1aRKB5c9AwqUaZRoFrcMxEiNPaMb8dKUvHD5NqZDQEXIlnmGTIkztl6chhUo0yjQIX4xKmdDq5/SlLhw2TapRpFLgelzBZHJpb27f99HQp7my5keYnVao/TKpRplHgklzCNHS2tZLEg1iGQu2wCqUFHjBMqlGmUeCqXMJkwspSPOHlvVBNl97i+RVKC1oLk+arpBoZDQHX5hem0axQzXgUlOK0hOOESTXKNApc3g5hktgn29hyGo6y0p0Hmq87TKpRplEAO4Sp/5ePGJfXmbodd0mpNkyqUaZRAMarEcO/f90QtxsYexT+L29jud/pm+oMk2qUaRRA5hKm2KO4W5zty5tWkTx7NEpVCjRfZZhUI6MhAI9cwhTSkHo0dI2drGmnrS1TlQLNVxYm1SjTKIAFlzDt3KORslRlmFSjTKMA1riE6VeUpfrCpBplGgWwgTC5U42MhgA8RZgcqUaZRgG8cuYwjVX6SZhUo0yjAN5AmFyoRplGAbzHPUzDjl/OKUu/DpNqlGkUwNu8whRipD1Rmm7ca7e3UxL4UZYWYUqz+1CNjIYAfMglTKFKtuW3bfptNG5nT+kHr1WotKwgze4cJtUo0yiAz7mEqe36UIe4Z9zQ2TnB70sJf2+anU7ftGeYVKNMowD+xCVMMT6xDnHNaHGK8HBJo5nSUpWCNLtbmFSjTKMA/sopTLfQo/T3RZgeZsuKTTJpdp8wqUaZRgF8wStMzUaYwvu46WxZsUkm/H2skmuYVCOjIQBfc2mEfazUpI+4p2GKH4rb27w0W1xskgl/9w6TapRpFEAJLo1I377dmq7t/4VVp/DXzjYUSF/VDW7n440LNeHvrmFSjTKNAijEa+Vl6OLn3xOai1/VuUmLCMLfqRJwXI6ZCHEKGeoaTfm4uo6UpdttrFLxMKlGRkMASvMMkwx5cqcsuYVJQTIaAuBghzDtR1mahEkXfE01yjQKwEeZMI0rRW9OTmZVKhUm1SjTKAA3ZcKU9tR9f9LNSvMIk2qUaRSApzJhiruZPE7JcrC1D8J1s9LC/ftVSUMA/BVqxNBNp2GI2yu1t7gT73SKbYp78Hq9mSsYJtUo0yiAXbisvDR2dIF/w+LYSylYXe1hUo0yjQLYi0uY4npRs34IgTAeLtVMadMq/TlMqlGmUQA7cgrT/egCM35HF5hVKUy64BOqUaZRAPvyeSsX2nNrlgfRDW/h0ofgmi+qbJU0BOAXXBrRd3G1KH4F1w3d8C9N4068fevyVu6bMKlGmUYB/IhLmMK6UZ/SFMUPldKKUmDbCrh8+E2VgNNwCpPp27WdeL2+kvtbmFSjTKMAfsozTBJKlCZffwiTamQ0BKACO4RpJ5+GSUEyGgJQhyuGSTXKNAqgGpcLk2qUaRRATa4VJtUo0yiAylwoTKqR0RCAKl0iTKpRplEAtTp/mFSjTKMAKuYVpm74d2v7rUlXKmqs0m2yL55qlGkUQN1cwhSrZPugaD+U6T4p6QByDpZhUo2yNAigfi6NaJq4p9zQNf+GrrXzhacjWKYd6PrlAeRKmIVJNTLpCgCOwiVMIQ3jgeIeD8A0xFWneHTd8sYwqUaZLgZwHG5hygeKmx0ZTitQDlbDpMsAHIpLI6arRX1vx2DK+/A2/kewVJOoEnBYLo3obbVIMRqG8Pdb06XDxcVkOYcpLg7A1/TS+gWfZQ/2WVKrE1t21qkwYNNt6Hw/Y7JlAfiWXlq/4LbsvrPDwiXxgJbpcHHxqzofhAkoSy+tX9hz2XscLg7ACbiEaVmgdDKCMFEmAC+5hKlp+1ujD5iCPm8IHjWhUQDwjEuY4gffkzPxhrlQpKFr0pbfIVu6AADWOIXpvoHlEFeX7ueSsy/ovD7/BnAOXmFqcpji27rbLfbJ+J0iHMBpuDQirRaNW1SGWV2Q9+/VDACscWnEYLuhhCTZdAuzadw+Bb91PqcIB7CXIe3d4XRstcBt5aVv0xaVk80sw5pUfCMXfijNAzicHKXoeGGKltszhR+DKgFHNYR1jSisYthX7McME4AziRv8NK1tipi2/SFMAH5uyF+vHzVM8fu4ydkHZpOuBOCgjhimtJVAeNjjZ2ThL/fPy77YXGDo8zFUoqZpxyPQAdjREcPkdDKC8YO3+Mlbut84Z+94AezpiGGKD7j4yQiUpek6koZIE7C3o4ap9MkI0u9h3qCUJsoE7OyQb+Umq0WFTkawVaD1XgHwdcQwOZyMYOvXwCoT8AtHDFP5kxGMHzBpfrR5AQBHhwxTUPZkBNsrRs6/HwB3fRe/EI/iO5/wkkzfkLdtV/gV6BamFaEqf33Htb1iRJhWbHf8U5MdNt/eaCwt/Qr/JPftoF95/5pV0+twRelPU1zCFJ6TW8/hcNGffoKt/pR7CZ5Jqd+KnofpP4vNu/d3kTClp+Q7P+f710TmEqb4j5A/YJqxNcA/bMeU/m2XL41frTDVHcRCj+6PhblUmB5+yRu/960nL7b5hWm9PmE8XKqZT6wX6Gf/5JcI0x+rf5Ewraj7WXEoJcMU/j3SFP9xwipTnh2n8FwNl4RLdYOPpFfJw/M9PQ9+8hIgTNsIE2H6WskwWXTSlIyz4xSNZ0z5lNI0fuSR5nZ/AeSH8eD+KIb4ebEemz3W5dP02a7Ib9x8YXp/TdP1w8YLZLbcNlxTl8ylO3iUf8SXj3AtTM/3vrZLty82z+/hzpZuP/owucH61b9a7uOP+exZ8XjNNLes13K85K/laIquMdkGAfbrjREaZ8cp/OOF376u/RdV/CvEB5F3Ib5/WZoeSB9+ShtPF+hZ9fgk1FNYV4nXGS9/5+YLY68nNzGPt0vP+/t928zmfaef0a6UH6j9iO88wsfXYfTkR74/sPzL1Nxj2Z7ewwO7u3A1u5t0/Xz/j7f4drmPP+azZ8XsF5Jm548/Lek++u3DO7iSYQq/zDTFX1/8jEmzk+k01p9c4YkyWw/R0+v+bNq4YfL65gt6ak6uETcaM9OFrCxW13t537NXwutHmIbuIy9+5HjzcO3lI7vfxdN7mNEDerzL+R2WWO78xww2rj+/5trV0qLH63z/8A6ubJgk/ALDf0A0c05vPyfeeVI+Mb/5XHquzu9usZDZ017eu/Pty83yTuYji0czsbWIx/Fn9zC3ft00el9QgeWmCx/uYuP6i2surzd7POV/LUfjEqYLePqcGIbeVuxNvN7DUyw9ueLqd7++1d3zmz94+kq4D6f58S3GKI1uPrG3Xh4vHmFa2ls/8uavcX7By1/aaLl0k+4g32GJ5a4saONul9dMI/eh2W96436WF7z/azkawvQ3W0+d6QeuE4+vk4ePyuJzSuNv3nxi42HMh9P8hpXnv8xeLuaNR5iW9taPvLYEo0c8uWT7l/ZobenB46+kxHJXFvS4kNHmNfPY/OE4/FqOhjD9zfpTMD2hwvDTp29mX2/pBnb9z24erT+MxfDG1V5Zvj7eeoRPHvP8R958YNsXzH9pcxtLT48836bEclcWtHHr1Yc0+eUufs8lHt7BEaa/WX2GrA2uPiknJpf/5ebLdkSLe1q/2itvvWCWj/DVY55evvHA0lU27+PZEtYvm99hgeWuLCgNzZ4Vq9cMxodgf3m8Uflfy9EQpj9ae+osn5fhv2PxapPrhf+wPaxvT+7nnZsvpGs83Cg9ex8Hl1cz4Y3Ak5X/yWNL3nuE89fHkx85z4S5yRV0p/flPL2HmfHHn9xicYclljv/MaP1B7Z2zUBXtn0h5v8y3z+8gyNMf5Sf//aBcvzw8WFQozYT3Z8sesala6y+OXh686V8o/xI9Nfw/49Pdi0433te9rP7Xj7R33qE6Urv/cjB/YHZ5flxTR/9i3t4kJbejL+I+8Oc/aTfLnf+Y0bj78eur2fF6jWj8RGs/TCFfy1HQ5j+LvwHy54LwX3r54fNjeN/0OzZM31SPn5c+fjfvDduviJc6X4jeyj2Ulg8R+P1xiuGu4/3/+xpnJ74s4W/8QMuXodPf+Rg/sAeN5WKXt3D3bj06Z1u3OCr5W7kZvJvkZ8VW2G6b666XpOSv5ajIUw4l80K4EgIE86FMJ0CYcK5EKZTIEw4F8J0CoQJQHUIE4DqECYA1SFMAKpDmABUhzABqA5hAlAdwgSgOoQJQHUIE4DqECYA1SFMAKpDmABUhzABqA5hAlCZf//+H4Nssn5eVNxiAAAAAElFTkSuQmCC)\n",
        "\n",
        "Se sigue entonces que el clasificador perfecto alcanza (0,1) y el área bajo su curva ROC es 1. Más cerca de 1 esté el área bajo la curva ROC, mejor será el clasificador. Además, como el \"nivel chance\" está dado por la identidad, entonces el área bajo la curva ROC asociada es 0.5.\n",
        "\n",
        "Introducimos entonces la métrica AUC que representa el área bajo la curva (*area under the curve*) ROC.\n",
        "\n",
        "Veamos como plotear curvas ROC y calcular el AUC con scikit-learn.  \n"
      ]
    },
    {
      "cell_type": "code",
      "metadata": {
        "id": "E5XfLg3RUdxo",
        "colab": {
          "base_uri": "https://localhost:8080/",
          "height": 475
        },
        "outputId": "5e601ab2-26d0-4fae-b484-80ae62fe8059"
      },
      "source": [
        "from sklearn.metrics import roc_curve # función curva ROC de scikit-learn\n",
        "from sklearn.metrics import roc_auc_score # función AUC de scikit-learn\n",
        "\n",
        "fpr, tpr, thresholds = roc_curve(y, probas[:,1]) # Función ROC: recibe las etiquetas verdaderas y las probas de que sean 1\n",
        "                                                # Devuelve las tastas de falsos positivos y verdaderos positivos, además de los \n",
        "                                                # umbrales a los que están calculados\n",
        "fig, ax = plt.subplots(figsize = (10,7))\n",
        "ax.set_title('Verdaderos positivos vs. falsos positivos')\n",
        "ax.plot(fpr,tpr) # Gráfico de TPR vs FPR\n",
        "ax.set_xlabel('Tasa de falsos positivos') # Etiqueta del eje x\n",
        "ax.set_ylabel('Tasa de verdaderos positivos') # Etiqueta del eje y\n",
        "\n",
        "auc = roc_auc_score(y, probas[:,1]) # Cálculo del área debajo de la curva, recibe también las etiquetas verdaderas \n",
        "                                    # y la proba de que valgan 1.\n",
        "\n",
        "print('AUC: {}'.format(round(auc,4))) # mostramos el AUC con 4 cifras significativas \n",
        "\n",
        "\n"
      ],
      "execution_count": null,
      "outputs": [
        {
          "output_type": "stream",
          "text": [
            "AUC: 0.7323\n"
          ],
          "name": "stdout"
        },
        {
          "output_type": "display_data",
          "data": {
            "image/png": "[encoded data removed]",
            "text/plain": [
              "<Figure size 720x504 with 1 Axes>"
            ]
          },
          "metadata": {
            "tags": [],
            "needs_background": "light"
          }
        }
      ]
    },
    {
      "cell_type": "markdown",
      "metadata": {
        "id": "xcPMnCVpVkz8"
      },
      "source": [
        "El AUC es una de las métricas más usadas para evaluar la performance de modelos, porque funciona independientemente de una única forma particular de balancear los datos. Si para el problema en particular fuese necesario, se presenta también una matriz de confusión armada con algún umbral elegido para minimizar el error tipo 1 o tipo 2, dependiendo de la naturaleza del problema."
      ]
    },
    {
      "cell_type": "markdown",
      "metadata": {
        "id": "Uv_lAIM8bK8c"
      },
      "source": [
        "# Para llevarse de este notebook\n",
        "\n",
        "Lo más importante es el código para obtener el AUC y la idea detrás:\n",
        "\n",
        "```\n",
        "# auc = roc_auc_score(y, probas[:,1])\n",
        "```\n",
        "\n",
        "donde $y$ son los labels y probas es la matriz que tiene en su primera columna la probabilidad de que el label sea 0, y en la segunda de que sea 1 (ambas columnas suman siempre 1).\n",
        "\n",
        "También es útil el siguiente código para plotear curvas ROC:\n",
        "\n",
        "\n",
        "```\n",
        "\n",
        "fpr, tpr, thresholds = roc_curve(y, probas[:,1])\n",
        "fig, ax = plt.subplots()\n",
        "ax.set_title('Verdaderos positivos vs. falsos positivos')\n",
        "ax.plot(fpr,tpr)\n",
        "ax.set_xlabel('Tasa de falsos positivos') \n",
        "ax.set_ylabel('Tasa de verdaderos positivos')\n",
        "\n",
        "```\n",
        "\n",
        "\n"
      ]
    },
    {
      "cell_type": "markdown",
      "metadata": {
        "id": "0orkeEmHbw9e"
      },
      "source": [
        "# Preguntas extra\n",
        "\n",
        "*   Volver a clasificadores de notebooks pasados y calcular el AUC\n",
        "*   ¿Cómo interpretarías un AUC < 0.5?\n",
        "*   Responder qué hay de erroneo en el siguiente razonamiento:\n",
        "\n",
        "\"Si mi AUC<0.5, entonces mi clasificador esta aprendiendo las etiquetas al revés. Lo único que necesito es invertir la etiqueta que predice mi clasificador, de forma tal que 0 es 1 y 1 es 0.\"\n",
        "\n"
      ]
    }
  ]
}