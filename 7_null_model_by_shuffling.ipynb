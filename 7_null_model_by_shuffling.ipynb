{
  "nbformat": 4,
  "nbformat_minor": 0,
  "metadata": {
    "colab": {
      "name": "Clase 10: Modelo nulo con label shuffling.ipynb",
      "provenance": [],
      "collapsed_sections": []
    },
    "kernelspec": {
      "name": "python3",
      "display_name": "Python 3"
    },
    "language_info": {
      "name": "python"
    }
  },
  "cells": [
    {
      "cell_type": "markdown",
      "metadata": {
        "id": "FNm-dDcDWYET"
      },
      "source": [
        "# Más sobre evaluación de modelos y selección de features (cuarta parte)\n",
        "\n",
        "Vimos que el AUC de nuestros modelos fluctua naturalmente por el azar involucrado en armar los folds. Una buena pregunta es la siguiente: **¿podemos estar seguros de que a pesar de esas fluctuaciones nuestro modelo es mejor que el nivel chance?**\n",
        "\n",
        "Por ejemplo, si evaluamos nuestro modelo con validacion cruzada y obtenemos AUC=0.67... **¿cómo podemos saber si no tuvimos suerte en el armado de los folds, pero en realidad nuestro nivel de clasificación es indistinto del azar?**\n",
        "\n",
        "La forma de responder esta pregunta es la siguente: construyamos un modelo sobre el cual podamos afirmar realmente que el nivel de clasificación es indistinto del azar, usemos validación cruzada sobre este modelo, miremos cómo fluctua el AUC y comparemoslo con las fluctuaciones de nuestro modelo.\n",
        "\n",
        "Seguimos trabajando con los datos de INTA, así que repetimos el proceso para cargarlos."
      ]
    },
    {
      "cell_type": "code",
      "metadata": {
        "id": "jTujCTikWGp6",
        "colab": {
          "base_uri": "https://localhost:8080/"
        },
        "outputId": "77f6672c-8a9c-48bb-da52-fb3c3b28f54b"
      },
      "source": [
        "# Como siempre, tratamos de traer todos los paquetes al ppio\n",
        "from google.colab import drive # Para montar nuestro drive en la consola\n",
        "import matplotlib.pylab as plt # Para gráficos\n",
        "import numpy as np # Para manejo de arrays, operaciones matemáticas, etc.\n",
        "from sklearn.linear_model import LogisticRegression # El método de regresión logística que vamos a usar\n",
        "import pandas as pd # Para manejo de base de datos\n",
        "\n",
        "# Traemos los datos\n",
        "drive.mount('/content/drive') # Montamos nuestra unidad de Google Drive\n",
        "\n",
        "filename = '/content/drive/My Drive/LaboDatos2021/datosDiariosSanFernandoINTA.xls'\n",
        "\n",
        "d = pd.read_excel(filename) # Levantamos los datos, en este caso, con el método pd.read_excel\n"
      ],
      "execution_count": null,
      "outputs": [
        {
          "output_type": "stream",
          "text": [
            "Mounted at /content/drive\n"
          ],
          "name": "stdout"
        }
      ]
    },
    {
      "cell_type": "markdown",
      "metadata": {
        "id": "Ff6MSZfVW9Lz"
      },
      "source": [
        "Luego, filtramos el dataframe descartando columnas con datos faltantes, seleccionamos un subconjunto de columnas, y las renombramos."
      ]
    },
    {
      "cell_type": "code",
      "metadata": {
        "id": "kTay790UXBEJ"
      },
      "source": [
        "vars = ['Precipitacion_Pluviometrica','Temperatura_Abrigo_150cm',\t'Temperatura_Abrigo_150cm_Maxima',\t'Temperatura_Abrigo_150cm_Minima', 'Temperatura_Suelo_10cm_Media', 'Tesion_Vapor_Media',\t'Humedad_Media', 'Humedad_Media_8_14_20',\t'Rocio_Medio', 'Velocidad_Viento_200cm_Media', 'Velocidad_Viento_1000cm_Media', 'Velocidad_Viento_Maxima', 'Horas_Frio',\t'Unidades_Frio']\n",
        "dictvars = {'Precipitacion_Pluviometrica':'precipitacion','Temperatura_Abrigo_150cm':'var1',\t'Temperatura_Abrigo_150cm_Maxima':'var2',\t'Temperatura_Abrigo_150cm_Minima':'var3', 'Temperatura_Suelo_10cm_Media':'var4', 'Tesion_Vapor_Media':'var5',\t'Humedad_Media':'var6', 'Humedad_Media_8_14_20':'var7',\t'Rocio_Medio':'var8', 'Velocidad_Viento_200cm_Media':'var9', 'Velocidad_Viento_1000cm_Media':'var10', 'Velocidad_Viento_Maxima':'var11', 'Horas_Frio':'var12',\t'Unidades_Frio':'var13'}\n",
        "\n",
        "d_filtrado = d[vars].dropna().copy() # Nos quedamos con ciertos campos del data set, para facilitar el trabajo. Y para limitarlo.\n",
        "                                                  # Notar que primero aplicamos el método .dropna() para eliminar filas que tengan alguna columna con NaN \n",
        "                                                  # Ademas, el metodo copy() nos asegura que estemos creando un nuevo dataframe \n",
        "d_filtrado.rename(dictvars, axis = 1, inplace = True)\n",
        "                  "
      ],
      "execution_count": null,
      "outputs": []
    },
    {
      "cell_type": "markdown",
      "metadata": {
        "id": "Gnj818t9XC37"
      },
      "source": [
        "Finalmente, construimos una variable con las etiquetas de los días lluviosos.\n"
      ]
    },
    {
      "cell_type": "code",
      "metadata": {
        "id": "ZVZQD9ZdXFjl",
        "colab": {
          "base_uri": "https://localhost:8080/"
        },
        "outputId": "53ad1df4-c425-4ef1-fb2a-4da39ae585e9"
      },
      "source": [
        "d_filtrado['llueveNollueve'] = 0 # empezamos con una columna llena de 0. \n",
        "indice =  d_filtrado['precipitacion'] > 0  # esto me da los valores del indice para los cuales hay precipitacion mayor a 0\n",
        "d_filtrado.loc[indice, 'llueveNollueve'] = 1 # entonces para esos valores del indice pongo 1, porque en el dia correspondiente, llovio\n",
        "\n",
        "d_filtrado['llueveNollueve'].value_counts()"
      ],
      "execution_count": null,
      "outputs": [
        {
          "output_type": "execute_result",
          "data": {
            "text/plain": [
              "0    695\n",
              "1    324\n",
              "Name: llueveNollueve, dtype: int64"
            ]
          },
          "metadata": {
            "tags": []
          },
          "execution_count": 3
        }
      ]
    },
    {
      "cell_type": "markdown",
      "metadata": {
        "id": "kL0JDHruSL6U"
      },
      "source": [
        "# Modelo nulo\n",
        "\n",
        "Supongamos que queremos construir un modelo que sepamos es incapaz de clasificar los datos por encima del nivel azar. Una forma de hacer esto es randomizando (shuffleando) las etiquetas. Si permutamos las etiquetas al azar, entonces rompemos la relación entre features y targets, y podemos asumir que no hay nada útil que el clasificador pueda aprender, de forma tal que el AUC de este modelo nos da una buena idea de lo que podemos obtener al nivel chance.\n",
        "\n",
        "Veamos cómo se ve el ROC plot para datos con y sin randomización de labels."
      ]
    },
    {
      "cell_type": "code",
      "metadata": {
        "id": "OI6wLeC5Spnd",
        "colab": {
          "base_uri": "https://localhost:8080/"
        },
        "outputId": "9ddeac32-73d7-4f7e-d261-97192a4319d3"
      },
      "source": [
        "from sklearn.model_selection import StratifiedKFold\n",
        "from sklearn.preprocessing import MinMaxScaler\n",
        "from sklearn.metrics import roc_curve\n",
        "from sklearn.metrics import roc_auc_score\n",
        "from sklearn.model_selection import train_test_split\n",
        "\n",
        "# Definamos la matriz X\n",
        "campos = ['var1','var2','var3','var4','var5','var6','var7','var8','var9','var10','var11','var12','var13'] # Lista que contiene las features de interés.\n",
        "X = d_filtrado[campos].values # En este caso no hace falta reshapear, porque ya tiene la forma que queremos\n",
        "y = np.array(d_filtrado['llueveNollueve']) # Nuestra etiqueta sigue siende la misma de antes\n",
        "\n",
        "skf = StratifiedKFold(n_splits=5, shuffle=True) # 5 folds es un número típico si tenemos suficientes datos. Pedimos shuffle=True para que sea al azar la separación en subgrupos\n",
        "skf.get_n_splits(X, y) # arma los folds a partir de los datos\n",
        "\n",
        "auc_values = [] # aca es donde van a ir a parar los AUCs de cada fold\n",
        "scores = np.array([])     # aca es donde van a ir a parar los scores computados para todos los casos\n",
        "indices = np.array([])    # aca es donde van a ir a parar los indices correspondientes a las entradas de scores\n",
        "targets = np.array([])    # aca es donde van a ir a parar los targets en el orden de la validacion cruzada\n",
        "\n",
        "for train_index, test_index in skf.split(X, y): # va generando los indices que corresponden a train y test en cada fold\n",
        "    X_train, X_test = X[train_index], X[test_index] # arma que es dato de entrenamiento y qué es dato de evaluación\n",
        "    y_train, y_test = y[train_index], y[test_index]     # idem con los targets\n",
        "\n",
        "    regLog_1 = LogisticRegression(penalty = 'none', max_iter=10000) # Inicializamos nuevamente el modelo. max_iter es la cantidad de iteraciones maximas del algoritmo de optimizacion de parametros antes de detenerse.\n",
        "    regLog_1.fit(X_train, y_train) # Ajustamos el modelo con los datos de entrenamiento\n",
        "\n",
        "    probas_test = regLog_1.predict_proba(X_test)  # probabilidades con datos de evaluación\n",
        "    fpr_test, tpr_test, thresholds_test = roc_curve(y_test, probas_test[:,1]) # para plotear curva ROC con datos de entrenamiento\n",
        "    auc_test = roc_auc_score(y_test, probas_test[:,1]) #  AUC con datos de evaluación\n",
        "\n",
        "    auc_values.append(auc_test)\n",
        "    scores = np.concatenate((scores,probas_test[:,1]),axis=0)\n",
        "    indices = np.concatenate((indices,test_index),axis=0)\n",
        "    targets = np.concatenate((targets,y_test),axis=0)\n",
        "\n",
        "print(\"Estos son los valores AUC para cada fold:\")\n",
        "print(auc_values)\n",
        "print(\"Estos es el promedio de todos los AUC:\")\n",
        "print(np.mean(auc_values))\n",
        "\n",
        "\n"
      ],
      "execution_count": null,
      "outputs": [
        {
          "output_type": "stream",
          "text": [
            "Estos son los valores AUC para cada fold:\n",
            "[0.7115661317100166, 0.719535141117875, 0.7947980077476481, 0.7310459324847813, 0.7680980215827338]\n",
            "Estos es el promedio de todos los AUC:\n",
            "0.7450086469286109\n"
          ],
          "name": "stdout"
        }
      ]
    },
    {
      "cell_type": "markdown",
      "metadata": {
        "id": "f7eyEqktUNXY"
      },
      "source": [
        "Y ahora voy a todo pero permutando aleatoriamente todos los targets antes de empezar."
      ]
    },
    {
      "cell_type": "code",
      "metadata": {
        "id": "kunup4GaUTNr",
        "colab": {
          "base_uri": "https://localhost:8080/"
        },
        "outputId": "f9e61a15-e3b5-4887-dbed-d9d93a187b87"
      },
      "source": [
        "from numpy.random import shuffle # para shufflear el vector\n",
        "\n",
        "# Definamos la matriz X\n",
        "campos = ['var1','var2','var3','var4','var5','var6','var7','var8','var9','var10','var11','var12','var13'] # Lista que contiene las features de interés.\n",
        "X = d_filtrado[campos].values # En este caso no hace falta reshapear, porque ya tiene la forma que queremos\n",
        "y = np.array(d_filtrado['llueveNollueve']) # Nuestra etiqueta sigue siende la misma de antes\n",
        "\n",
        "y_shuffled = y.copy() # creo una copia del vector de targets, porque shuffle lo pisa\n",
        "shuffle(y_shuffled) # shuffleo\n",
        "\n",
        "skf = StratifiedKFold(n_splits=5, shuffle=True) # 5 folds es un número típico si tenemos suficientes datos. Pedimos shuffle=True para que sea al azar la separación en subgrupos\n",
        "skf.get_n_splits(X, y_shuffled) # arma los folds a partir de los datos\n",
        "\n",
        "auc_values = [] # aca es donde van a ir a parar los AUCs de cada fold\n",
        "scores_shuffled = np.array([])     # aca es donde van a ir a parar los scores computados para todos los casos\n",
        "indices_shuffled = np.array([])    # aca es donde van a ir a parar los indices correspondientes a las entradas de scores\n",
        "targets_shuffled = np.array([])    # aca es donde van a ir a parar los targets en el orden de la validacion cruzada\n",
        "\n",
        "for train_index, test_index in skf.split(X, y_shuffled): # va generando los indices que corresponden a train y test en cada fold\n",
        "    X_train, X_test = X[train_index], X[test_index] # arma que es dato de entrenamiento y qué es dato de evaluación\n",
        "    y_train, y_test = y_shuffled[train_index], y_shuffled[test_index]     # idem con los targets\n",
        "\n",
        "    regLog_1 = LogisticRegression(penalty = 'none', max_iter=10000) # Inicializamos nuevamente el modelo. max_iter es la cantidad de iteraciones maximas del algoritmo de optimizacion de parametros antes de detenerse.\n",
        "    regLog_1.fit(X_train, y_train) # Ajustamos el modelo con los datos de entrenamiento\n",
        "\n",
        "    probas_test = regLog_1.predict_proba(X_test)  # probabilidades con datos de evaluación\n",
        "    fpr_test, tpr_test, thresholds_test = roc_curve(y_test, probas_test[:,1]) # para plotear curva ROC con datos de entrenamiento\n",
        "    auc_test = roc_auc_score(y_test, probas_test[:,1]) #  AUC con datos de evaluación\n",
        "\n",
        "    auc_values.append(auc_test)\n",
        "    scores_shuffled  = np.concatenate((scores_shuffled ,probas_test[:,1]),axis=0)\n",
        "    indices_shuffled  = np.concatenate((indices_shuffled ,test_index),axis=0)\n",
        "    targets_shuffled  = np.concatenate((targets_shuffled ,y_test),axis=0)\n",
        "\n",
        "\n",
        "\n",
        "print(\"Estos son los valores AUC para cada fold:\")\n",
        "print(auc_values)\n",
        "print(\"Estos es el promedio de todos los AUC:\")\n",
        "print(np.mean(auc_values))\n"
      ],
      "execution_count": null,
      "outputs": [
        {
          "output_type": "stream",
          "text": [
            "Estos son los valores AUC para cada fold:\n",
            "[0.5611510791366907, 0.5941339236303266, 0.5428887659103486, 0.4906474820143885, 0.489658273381295]\n",
            "Estos es el promedio de todos los AUC:\n",
            "0.5356959048146098\n"
          ],
          "name": "stdout"
        }
      ]
    },
    {
      "cell_type": "markdown",
      "metadata": {
        "id": "0nfkOFupVQnq"
      },
      "source": [
        "Ahora vamos a plotear las dos curvas ROC juntas para ver como se ven:"
      ]
    },
    {
      "cell_type": "code",
      "metadata": {
        "id": "ULURh_3mT7cD",
        "colab": {
          "base_uri": "https://localhost:8080/",
          "height": 475
        },
        "outputId": "7b47a862-44cb-490c-ad76-125703a027f0"
      },
      "source": [
        "from sklearn.metrics import roc_curve\n",
        "from sklearn.metrics import roc_auc_score\n",
        "\n",
        "# este codigo fue sacado del notebook de ROC AUC (clase 10) y sirve para visualizar la curva ROC\n",
        "\n",
        "fpr, tpr, thresholds = roc_curve(targets, scores)\n",
        "fpr_shuffled, tpr_shuffled, thresholds_shuffled = roc_curve(targets_shuffled, scores_shuffled)\n",
        "\n",
        "fig, ax = plt.subplots(figsize = (10,7))\n",
        "ax.set_title('Verdaderos positivos vs. falsos positivos')\n",
        "ax.plot(fpr,tpr, label='Modelo real')\n",
        "ax.plot(fpr_shuffled,tpr_shuffled, label='Modelo nulo')\n",
        "\n",
        "ax.set_xlabel('Tasa de falsos positivos') # Etiqueta del eje x\n",
        "ax.set_ylabel('Tasa de verdaderos positivos') # Etiqueta del eje y\n",
        "plt.legend()\n",
        "\n"
      ],
      "execution_count": null,
      "outputs": [
        {
          "output_type": "execute_result",
          "data": {
            "text/plain": [
              "<matplotlib.legend.Legend at 0x7f1813df7650>"
            ]
          },
          "metadata": {
            "tags": []
          },
          "execution_count": 17
        },
        {
          "output_type": "display_data",
          "data": {
            "image/png": "[encoded data removed]",
            "text/plain": [
              "<Figure size 720x504 with 1 Axes>"
            ]
          },
          "metadata": {
            "tags": [],
            "needs_background": "light"
          }
        }
      ]
    },
    {
      "cell_type": "markdown",
      "metadata": {
        "id": "KXL3tRAMViwe"
      },
      "source": [
        "# Test de permutación para AUC\n",
        "\n",
        "La idea entonces es la siguiente:\n",
        "\n",
        "1.   Obtengamos nuestro AUC para el modelo real (sin shufflear)\n",
        "2.   Repitamos muchas veces el calculo de AUC shuffleando de forma distinta cada vez los labels\n",
        "3.   Veamos la distribución de valores con y sin shufflear. Contemos la cantidad de veces que el AUC del modelo nulo supera al AUC del modelo real, y dividámoslo por la cantidad de shuffleados que hicimos. Esto lo podemos interpretar como la probabilidad de que el AUC de nuestro clasificador sea igual al del nivel chance.\n",
        "4.   Típicamente introducimos un criterio arbitrario para declarar que nuestro clasificador es significativamente mejor que el nivel chance, por ejemplo, si esa probabilidad es < 0.05\n",
        "\n",
        "Vamos a usar la función permutation_test_score de scikit-learn para hacer esto automáticamente. Como input de la función necesitamos:\n",
        "\n",
        "*   Un objeto de tipo clasificador, que va a ser el clasificador cuya AUC queremos comparar con el modelo nulo.\n",
        "*   Un objeto tipo cross-validation, que va a determinar el esquema de validación cruzada para computar AUC\n",
        "*   Setear la metrica para medir la performance (obtenemos AUC eligiendo \"roc_auc\")\n",
        "*   Los datos y etiquetas de nuestro modelo\n",
        "\n",
        "\n",
        "\n",
        "\n"
      ]
    },
    {
      "cell_type": "code",
      "metadata": {
        "id": "FE7ddnhrWFxy",
        "colab": {
          "base_uri": "https://localhost:8080/"
        },
        "outputId": "7b34e6f5-5e1d-4ffd-f756-1110770726b7"
      },
      "source": [
        "from sklearn.model_selection import permutation_test_score\n",
        "\n",
        "regLog = LogisticRegression(penalty = 'none', max_iter=10000) # creamos un objeto clasificador\n",
        "skf = StratifiedKFold(n_splits=5, shuffle=True) # creamos un objeto de cross-validation\n",
        "\n",
        "AUC, AUC_shuffled, pvalue = permutation_test_score(regLog, X, y, scoring=\"roc_auc\", cv=skf, n_permutations=100) # aca aplico la funcion \n",
        "# Notar que la función de arriba recibe como argumentos el clasificador (regLog) y la forma de hacer validación cruzada (skf), \n",
        "# además de los datos y el número de permutaciones que hacemos para construir nuestro modelo al azar.\n",
        "\n",
        "print('Sin shufflear:')\n",
        "print(AUC)\n",
        "print('Modelo nulo (shuffleando):')\n",
        "print(AUC_shuffled)\n",
        "print('p-valor:')\n",
        "print(pvalue)\n",
        "\n"
      ],
      "execution_count": null,
      "outputs": [
        {
          "output_type": "stream",
          "text": [
            "Sin shufflear:\n",
            "0.7429136690647483\n",
            "Modelo nulo (shuffleando):\n",
            "[0.46462126 0.50432001 0.46917162 0.52445663 0.49987306 0.49443968\n",
            " 0.45524523 0.53674875 0.49140184 0.50686186 0.50626556 0.56871265\n",
            " 0.50708183 0.5212168  0.53302366 0.44516706 0.45610646 0.44773243\n",
            " 0.49945732 0.54096984 0.50045483 0.49559733 0.50685529 0.47331074\n",
            " 0.47432243 0.48800014 0.47428403 0.52797904 0.51583011 0.54993809\n",
            " 0.43687223 0.47796278 0.49734436 0.47747994 0.50336608 0.48691132\n",
            " 0.49544653 0.44574952 0.52920206 0.49894542 0.49846534 0.50097157\n",
            " 0.53286594 0.51193414 0.47669514 0.47220497 0.45968214 0.49051051\n",
            " 0.45954171 0.49055064 0.46168442 0.52105562 0.48473264 0.49579552\n",
            " 0.52842626 0.49510861 0.4617996  0.51674253 0.48280472 0.4895552\n",
            " 0.53983363 0.49727553 0.51663773 0.48501799 0.54059664 0.44309768\n",
            " 0.4693079  0.49479386 0.5253227  0.523226   0.47934837 0.50111442\n",
            " 0.51819245 0.48146168 0.47899108 0.4989174  0.49804856 0.51504946\n",
            " 0.53275318 0.4959816  0.48982499 0.48520199 0.46578272 0.52756122\n",
            " 0.4826093  0.48247441 0.51600131 0.46196112 0.48664949 0.50031475\n",
            " 0.45577684 0.47590412 0.49316478 0.50409069 0.48598195 0.46740869\n",
            " 0.48903985 0.45615385 0.4776003  0.46154918]\n",
            "p-valor:\n",
            "0.009900990099009901\n"
          ],
          "name": "stdout"
        }
      ]
    },
    {
      "cell_type": "markdown",
      "metadata": {
        "id": "D0fXAoP9YCrV"
      },
      "source": [
        "Vemos que el modelo parece ser significativamente mejor que el azar.\n",
        "\n",
        "Podemos visualizar esto de otra forma graficando la distribucion de AUC obtenidas partiendo del modelo nulo vs. el valor obtenido del modelo real."
      ]
    },
    {
      "cell_type": "code",
      "metadata": {
        "id": "DwiiLmi0YMcY",
        "colab": {
          "base_uri": "https://localhost:8080/",
          "height": 296
        },
        "outputId": "88a45170-0fb4-4325-bb86-21026fd9a1bf"
      },
      "source": [
        "fig, ax = plt.subplots()\n",
        "\n",
        "ax.hist(AUC_shuffled, bins=20, density=True) # armo el histograma de valores, normalizado para tener la probabilidad\n",
        "ax.axvline(AUC, ls='--', color='r') # una linea vertical para indicar el AUC sin shufflear (modelo real)\n",
        "ax.set_xlabel(\"AUC\") # nombre de eje x\n",
        "ax.set_ylabel(\"Probabilidad\") # nombre de eje y"
      ],
      "execution_count": null,
      "outputs": [
        {
          "output_type": "execute_result",
          "data": {
            "text/plain": [
              "Text(0, 0.5, 'Probabilidad')"
            ]
          },
          "metadata": {
            "tags": []
          },
          "execution_count": 21
        },
        {
          "output_type": "display_data",
          "data": {
            "image/png": "[encoded data removed]",
            "text/plain": [
              "<Figure size 432x288 with 1 Axes>"
            ]
          },
          "metadata": {
            "tags": [],
            "needs_background": "light"
          }
        }
      ]
    },
    {
      "cell_type": "markdown",
      "metadata": {
        "id": "Of6btwmbZQfn"
      },
      "source": [
        "# Para llevarse de este notebook\n",
        "\n",
        "Lo principal para llevarse es la existencia de la funcion \n",
        "\n",
        "```\n",
        "AUC, AUC_shuffled, pvalue = permutation_test_score(clf, X, y, scoring=\"roc_auc\", cv=cv, n_permutations=100)\n",
        "```\n",
        "donde clf es un objeto tipo clasificador (hasta ahora, regresion logistica es el unico que vimos), X, y son matrices con features y labels, respectivamente, cv es un objeto de validacion cruzada, y n_permutations es la cantidad de permutaciones (shuffling) de labels que vamos a considerar.\n"
      ]
    },
    {
      "cell_type": "markdown",
      "metadata": {
        "id": "uJBhsa-GZ47h"
      },
      "source": [
        "# Preguntas extra\n",
        "\n",
        "*   Si tenemos $N$ permutaciones, ¿cuál es el valor más pequeño que puede tomar el p-valor?\n",
        "*   ¿Qué pasa si justo tuvimos mala suerte con la validacion cruzada para el AUC sin shufflear? ¿Convendría tomar el promedio de muchos AUC obtenidos de esta forma para estimar el p-valor?\n",
        "*    Armar un clasificador \"malo\" a proposito (por ejemplo, elegir una o dos features que sospechen que son poco informativas para predecir la lluvia) y obtener el p-valor correspondiente. Comparar con el ejemplo en este notebook.\n",
        "\n"
      ]
    }
  ]
}