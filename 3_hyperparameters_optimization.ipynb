{
  "nbformat": 4,
  "nbformat_minor": 0,
  "metadata": {
    "colab": {
      "name": "Clase 9: Optimización de hiperparámetros.ipynb",
      "provenance": [],
      "toc_visible": true
    },
    "kernelspec": {
      "name": "python3",
      "display_name": "Python 3"
    },
    "language_info": {
      "name": "python"
    }
  },
  "cells": [
    {
      "cell_type": "markdown",
      "metadata": {
        "id": "G9GB6QOU9Gcp"
      },
      "source": [
        "# Atacando un problema de clasificación: predicción de días lluviosos (tercera parte)\n",
        "\n",
        "\n",
        "\n",
        "\n"
      ]
    },
    {
      "cell_type": "markdown",
      "metadata": {
        "id": "dVrGhcfD9U56"
      },
      "source": [
        "# Ingeniería de features\n",
        "\n",
        "... del inglés *feature engineering*. \n",
        "\n",
        "En la jerga de machine learning, las variables (columnas de nuestra matriz X) se denominan *features*. El proceso de *feature engineering* consiste en modificar nuestras features o expandirlas para hacerle el trabajo más fácil al clasificador. Para esto usamos nuestra intuición, por ejemplo, si sabemos que lo importante para un problema de clasificación es el tiempo pasado desde una determinada fecha, entonces podemos referir todos los features temporales en relación a esa fecha. Por supuesto, podría ser que el clasificador *descubriese* por sí mismo esta transformación, pero es más fácil si nos aseguramos de que esté representada claramente en los datos.\n",
        "\n",
        "Una forma típica de aumentar nuestra cantidad de features es agregar nuevos que representen transformaciones no-lineales de features anteriores. Por ejemplo, nuevos features que sean features viejos al cuadrado, al cubo, etc., o bien productos de pares de viejos features. Este tipo de transformación es precisamente la que permite hacer regresión de polinomios.\n",
        "\n",
        "Entonces, vamos a avanzar sobre el problema de detectar días lluviosos haciendo un poco de *feature engineering*.\n",
        "\n",
        "Empezamos como en notebooks anteriores, cargando los datos."
      ]
    },
    {
      "cell_type": "code",
      "metadata": {
        "colab": {
          "base_uri": "https://localhost:8080/",
          "height": 411
        },
        "id": "1CXpKxWm-fgt",
        "outputId": "d384a8dd-eb49-4940-e91e-fca8113d4e40"
      },
      "source": [
        "# Como siempre, tratamos de traer todos los paquetes al ppio\n",
        "from google.colab import drive # Para montar nuestro drive en la consola\n",
        "import matplotlib.pylab as plt # Para gráficos\n",
        "import numpy as np # Para manejo de arrays, operaciones matemáticas, etc.\n",
        "from sklearn.linear_model import LogisticRegression # El método de regresión logística que vamos a usar\n",
        "import pandas as pd # Para manejo de base de datos\n",
        "from sklearn.metrics import confusion_matrix # matriz de confusion\n",
        "\n",
        "# Traemos los datos\n",
        "drive.mount('/content/drive') # Montamos nuestra unidad de Google Drive\n",
        "\n",
        "filename = '/content/drive/My Drive/LaboDatos2021/datosDiariosSanFernandoINTA.xls'\n",
        "\n",
        "d = pd.read_excel(filename) # Levantamos los datos, en este caso, con el método pd.read_excel\n",
        "d.head() # Mostramos las primeras líneas, para darnos una idea"
      ],
      "execution_count": null,
      "outputs": [
        {
          "output_type": "stream",
          "text": [
            "Mounted at /content/drive\n"
          ],
          "name": "stdout"
        },
        {
          "output_type": "execute_result",
          "data": {
            "text/html": [
              "<div>\n",
              "<style scoped>\n",
              "    .dataframe tbody tr th:only-of-type {\n",
              "        vertical-align: middle;\n",
              "    }\n",
              "\n",
              "    .dataframe tbody tr th {\n",
              "        vertical-align: top;\n",
              "    }\n",
              "\n",
              "    .dataframe thead th {\n",
              "        text-align: right;\n",
              "    }\n",
              "</style>\n",
              "<table border=\"1\" class=\"dataframe\">\n",
              "  <thead>\n",
              "    <tr style=\"text-align: right;\">\n",
              "      <th></th>\n",
              "      <th>Fecha</th>\n",
              "      <th>Temperatura_Abrigo_150cm</th>\n",
              "      <th>Temperatura_Abrigo_150cm_Maxima</th>\n",
              "      <th>Temperatura_Abrigo_150cm_Minima</th>\n",
              "      <th>Temperatura_Intemperie_5cm_Minima</th>\n",
              "      <th>Temperatura_Intemperie_50cm_Minima</th>\n",
              "      <th>Temperatura_Suelo_5cm_Media</th>\n",
              "      <th>Temperatura_Suelo_10cm_Media</th>\n",
              "      <th>Temperatura_Inte_5cm</th>\n",
              "      <th>Temperatura_Intemperie_150cm_Minima</th>\n",
              "      <th>Humedad_Suelo</th>\n",
              "      <th>Precipitacion_Pluviometrica</th>\n",
              "      <th>Precipitacion_Cronologica</th>\n",
              "      <th>Precipitacion_Maxima_30minutos</th>\n",
              "      <th>Heliofania_Efectiva</th>\n",
              "      <th>Heliofania_Relativa</th>\n",
              "      <th>Tesion_Vapor_Media</th>\n",
              "      <th>Humedad_Media</th>\n",
              "      <th>Humedad_Media_8_14_20</th>\n",
              "      <th>Rocio_Medio</th>\n",
              "      <th>Duracion_Follaje_Mojado</th>\n",
              "      <th>Velocidad_Viento_200cm_Media</th>\n",
              "      <th>Direccion_Viento_200cm</th>\n",
              "      <th>Velocidad_Viento_1000cm_Media</th>\n",
              "      <th>Direccion_Viento_1000cm</th>\n",
              "      <th>Velocidad_Viento_Maxima</th>\n",
              "      <th>Presion_Media</th>\n",
              "      <th>Radiacion_Global</th>\n",
              "      <th>Horas_Frio</th>\n",
              "      <th>Unidades_Frio</th>\n",
              "    </tr>\n",
              "  </thead>\n",
              "  <tbody>\n",
              "    <tr>\n",
              "      <th>0</th>\n",
              "      <td>2018-02-08 00:00:00.0</td>\n",
              "      <td>NaN</td>\n",
              "      <td>NaN</td>\n",
              "      <td>NaN</td>\n",
              "      <td>NaN</td>\n",
              "      <td>NaN</td>\n",
              "      <td>NaN</td>\n",
              "      <td>NaN</td>\n",
              "      <td>NaN</td>\n",
              "      <td>NaN</td>\n",
              "      <td>NaN</td>\n",
              "      <td>0.00</td>\n",
              "      <td>NaN</td>\n",
              "      <td>NaN</td>\n",
              "      <td>NaN</td>\n",
              "      <td>NaN</td>\n",
              "      <td>NaN</td>\n",
              "      <td>NaN</td>\n",
              "      <td>79.0</td>\n",
              "      <td>NaN</td>\n",
              "      <td>NaN</td>\n",
              "      <td>NaN</td>\n",
              "      <td></td>\n",
              "      <td>NaN</td>\n",
              "      <td></td>\n",
              "      <td>NaN</td>\n",
              "      <td>NaN</td>\n",
              "      <td>NaN</td>\n",
              "      <td>NaN</td>\n",
              "      <td>NaN</td>\n",
              "    </tr>\n",
              "    <tr>\n",
              "      <th>1</th>\n",
              "      <td>2018-02-09 00:00:00.0</td>\n",
              "      <td>23.80764</td>\n",
              "      <td>28.6</td>\n",
              "      <td>20.4</td>\n",
              "      <td>NaN</td>\n",
              "      <td>NaN</td>\n",
              "      <td>NaN</td>\n",
              "      <td>26.21042</td>\n",
              "      <td>NaN</td>\n",
              "      <td>NaN</td>\n",
              "      <td>NaN</td>\n",
              "      <td>11.75</td>\n",
              "      <td>11.75</td>\n",
              "      <td>5.75</td>\n",
              "      <td>NaN</td>\n",
              "      <td>NaN</td>\n",
              "      <td>19.25281</td>\n",
              "      <td>66.0</td>\n",
              "      <td>73.0</td>\n",
              "      <td>16.462780</td>\n",
              "      <td>NaN</td>\n",
              "      <td>1.332639</td>\n",
              "      <td>C</td>\n",
              "      <td>1.665799</td>\n",
              "      <td>C</td>\n",
              "      <td>19.3</td>\n",
              "      <td>NaN</td>\n",
              "      <td>NaN</td>\n",
              "      <td>0.0</td>\n",
              "      <td>-23.904030</td>\n",
              "    </tr>\n",
              "    <tr>\n",
              "      <th>2</th>\n",
              "      <td>2018-02-10 00:00:00.0</td>\n",
              "      <td>24.51389</td>\n",
              "      <td>31.7</td>\n",
              "      <td>19.4</td>\n",
              "      <td>NaN</td>\n",
              "      <td>NaN</td>\n",
              "      <td>NaN</td>\n",
              "      <td>26.45972</td>\n",
              "      <td>NaN</td>\n",
              "      <td>NaN</td>\n",
              "      <td>NaN</td>\n",
              "      <td>10.50</td>\n",
              "      <td>0.00</td>\n",
              "      <td>0.00</td>\n",
              "      <td>NaN</td>\n",
              "      <td>NaN</td>\n",
              "      <td>23.28392</td>\n",
              "      <td>72.0</td>\n",
              "      <td>77.0</td>\n",
              "      <td>18.622350</td>\n",
              "      <td>NaN</td>\n",
              "      <td>1.638195</td>\n",
              "      <td>C</td>\n",
              "      <td>2.047743</td>\n",
              "      <td>C</td>\n",
              "      <td>19.0</td>\n",
              "      <td>NaN</td>\n",
              "      <td>NaN</td>\n",
              "      <td>0.0</td>\n",
              "      <td>-23.904030</td>\n",
              "    </tr>\n",
              "    <tr>\n",
              "      <th>3</th>\n",
              "      <td>2018-02-11 00:00:00.0</td>\n",
              "      <td>19.50139</td>\n",
              "      <td>24.2</td>\n",
              "      <td>15.1</td>\n",
              "      <td>NaN</td>\n",
              "      <td>NaN</td>\n",
              "      <td>NaN</td>\n",
              "      <td>24.66320</td>\n",
              "      <td>NaN</td>\n",
              "      <td>NaN</td>\n",
              "      <td>NaN</td>\n",
              "      <td>0.00</td>\n",
              "      <td>10.50</td>\n",
              "      <td>4.00</td>\n",
              "      <td>NaN</td>\n",
              "      <td>NaN</td>\n",
              "      <td>14.67725</td>\n",
              "      <td>65.0</td>\n",
              "      <td>67.0</td>\n",
              "      <td>12.071650</td>\n",
              "      <td>NaN</td>\n",
              "      <td>3.247224</td>\n",
              "      <td>E</td>\n",
              "      <td>4.059030</td>\n",
              "      <td>C</td>\n",
              "      <td>20.4</td>\n",
              "      <td>NaN</td>\n",
              "      <td>NaN</td>\n",
              "      <td>0.0</td>\n",
              "      <td>-15.106020</td>\n",
              "    </tr>\n",
              "    <tr>\n",
              "      <th>4</th>\n",
              "      <td>2018-02-12 00:00:00.0</td>\n",
              "      <td>16.70625</td>\n",
              "      <td>24.6</td>\n",
              "      <td>9.5</td>\n",
              "      <td>NaN</td>\n",
              "      <td>NaN</td>\n",
              "      <td>NaN</td>\n",
              "      <td>22.63611</td>\n",
              "      <td>NaN</td>\n",
              "      <td>NaN</td>\n",
              "      <td>NaN</td>\n",
              "      <td>0.25</td>\n",
              "      <td>0.00</td>\n",
              "      <td>0.00</td>\n",
              "      <td>NaN</td>\n",
              "      <td>NaN</td>\n",
              "      <td>13.13446</td>\n",
              "      <td>66.0</td>\n",
              "      <td>69.0</td>\n",
              "      <td>9.627476</td>\n",
              "      <td>NaN</td>\n",
              "      <td>1.027778</td>\n",
              "      <td>C</td>\n",
              "      <td>1.284722</td>\n",
              "      <td>C</td>\n",
              "      <td>13.4</td>\n",
              "      <td>NaN</td>\n",
              "      <td>NaN</td>\n",
              "      <td>0.0</td>\n",
              "      <td>-5.394994</td>\n",
              "    </tr>\n",
              "  </tbody>\n",
              "</table>\n",
              "</div>"
            ],
            "text/plain": [
              "                   Fecha  Temperatura_Abrigo_150cm  ...  Horas_Frio  Unidades_Frio\n",
              "0  2018-02-08 00:00:00.0                       NaN  ...         NaN            NaN\n",
              "1  2018-02-09 00:00:00.0                  23.80764  ...         0.0     -23.904030\n",
              "2  2018-02-10 00:00:00.0                  24.51389  ...         0.0     -23.904030\n",
              "3  2018-02-11 00:00:00.0                  19.50139  ...         0.0     -15.106020\n",
              "4  2018-02-12 00:00:00.0                  16.70625  ...         0.0      -5.394994\n",
              "\n",
              "[5 rows x 30 columns]"
            ]
          },
          "metadata": {
            "tags": []
          },
          "execution_count": 1
        }
      ]
    },
    {
      "cell_type": "markdown",
      "metadata": {
        "id": "7Q344l8n-jnJ"
      },
      "source": [
        "Selecciono un subconjunto de columnas, las renombro y me deshago de los datos faltantes."
      ]
    },
    {
      "cell_type": "code",
      "metadata": {
        "id": "8-hbyw5A9FFZ"
      },
      "source": [
        "d_filtrado = d[['Temperatura_Abrigo_150cm_Maxima',\n",
        "                'Temperatura_Abrigo_150cm_Minima',\n",
        "                'Precipitacion_Pluviometrica',\n",
        "                'Velocidad_Viento_Maxima',\n",
        "                'Rocio_Medio',\n",
        "                'Humedad_Media', 'Tesion_Vapor_Media']].dropna().copy() # Nos quedamos con ciertos campos del data set, para facilitar el trabajo. Y para limitarlo.\n",
        "                                                  # Notar que primero aplicamos el método .dropna() para eliminar filas que tengan alguna columna con NaN \n",
        "                                                  # Ademas, el metodo copy() nos asegura que estemos creando un nuevo dataframe \n",
        "d_filtrado.rename({'Temperatura_Abrigo_150cm_Maxima' : 'temperaturaMaxima',\n",
        "                   'Temperatura_Abrigo_150cm_Minima' : 'temperaturaMinima',\n",
        "                   'Precipitacion_Pluviometrica' : 'precipitacion',\n",
        "                   'Humedad_Media' : 'humedad',\n",
        "                   'Rocio_Medio' : 'rocio',\n",
        "                   'Velocidad_Viento_Maxima' : 'viento', 'Tesion_Vapor_Media': 'vapor'},\n",
        "                  axis = 1,\n",
        "                  inplace = True) # Esto toma como input un diccionario en el cual las llaves son los nombres actuales de columnas, y los valores los nombres nuevos (a los que queremos renombrar)\n",
        "                                  # axis = 1 es porque queremos renombrar columnas, y inplace=True es porque queremos \"pisar\" el dataframe al renombrarlo"
      ],
      "execution_count": null,
      "outputs": []
    },
    {
      "cell_type": "markdown",
      "metadata": {
        "id": "tScI95c0-qkq"
      },
      "source": [
        "Creo una nueva columna que contiene la etiqueta que indica si llueve o no llueve."
      ]
    },
    {
      "cell_type": "code",
      "metadata": {
        "colab": {
          "base_uri": "https://localhost:8080/"
        },
        "id": "EHGf6gKH-uiR",
        "outputId": "30b920e0-0dfd-40c9-8811-d0e2b99a0583"
      },
      "source": [
        "d_filtrado['llueveNollueve'] = 0 # empezamos con una columna llena de 0. \n",
        "indice =  d_filtrado['precipitacion'] > 0  # esto me da los valores del indice para los cuales hay precipitacion mayor a 0\n",
        "d_filtrado.loc[indice, 'llueveNollueve'] = 1 # entonces para esos valores del indice pongo 1, porque en el dia correspondiente, llovio\n",
        "\n",
        "d_filtrado['llueveNollueve'].value_counts()"
      ],
      "execution_count": null,
      "outputs": [
        {
          "output_type": "execute_result",
          "data": {
            "text/plain": [
              "0    717\n",
              "1    337\n",
              "Name: llueveNollueve, dtype: int64"
            ]
          },
          "metadata": {
            "tags": []
          },
          "execution_count": 3
        }
      ]
    },
    {
      "cell_type": "markdown",
      "metadata": {
        "id": "GB4RJcVT-wmq"
      },
      "source": [
        "Vuelvo a definir la función necesaria para calcular el balanced accuracy.\n",
        "\n"
      ]
    },
    {
      "cell_type": "code",
      "metadata": {
        "id": "pgn_oxjI-7uY"
      },
      "source": [
        "def balanced_accuracy(cm): # funcion para calcular la \"balanced accuracy\"\n",
        "  sensibilidad = cm[1,1]/(cm[1,1]+cm[0,1])\n",
        "  especificidad = cm[0,0]/(cm[1,0]+cm[0,0])\n",
        "  return [sensibilidad, especificidad, (sensibilidad + especificidad)/2]"
      ],
      "execution_count": null,
      "outputs": []
    },
    {
      "cell_type": "markdown",
      "metadata": {
        "id": "FNd5i0D--_Tf"
      },
      "source": [
        "Ahora vamos a usar cinco variables, primero sin ningún tipo de transformación "
      ]
    },
    {
      "cell_type": "code",
      "metadata": {
        "colab": {
          "base_uri": "https://localhost:8080/"
        },
        "id": "t0oEC6RO-_fF",
        "outputId": "17956086-49df-45d2-a4f1-57997a5db8f5"
      },
      "source": [
        "from sklearn.preprocessing import MinMaxScaler\n",
        "\n",
        "# Definamos la matriz X\n",
        "campos = ['temperaturaMinima', 'temperaturaMaxima', 'humedad', 'rocio', 'vapor'] # Lista que contiene las features de interés.\n",
        "X = d_filtrado[campos].values # En este caso no hace falta reshapear, porque ya tiene la forma que queremos\n",
        "print(X.shape) # Como vemos, es una matriz de 1054 filas y 2 columnas\n",
        "y = d_filtrado['llueveNollueve'] # Nuestra etiqueta sigue siende la misma de antes\n",
        "\n",
        "scaler = MinMaxScaler() # primero creo un objeto MinMaxScaler. Por defecto, esto normaliza los datos al intervalo [0,1]\n",
        "scaler.fit(X) # encuentro los parametros para el escaleo\n",
        "X = scaler.transform(X) # aplico la transformacion\n",
        "\n",
        "regLog = LogisticRegression(penalty = 'none', class_weight='balanced', max_iter=10000) # Inicializamos nuevamente el modelo\n",
        "regLog.fit(X, y) # Ajustamos el modelo con los parámetros\n",
        "score = regLog.score(X,y) # Calculamos el score\n",
        "\n",
        "ypred = regLog.predict(X) # con esto obtengo la predicción de las etiquetas en base a mis datos\n",
        "cm = confusion_matrix(ypred, y) # primera entrada son las etiquetas predichas, segunda son las reales\n",
        "metricas = balanced_accuracy(cm)\n",
        "\n",
        "print('El score del modelo es de: {}'.format(round(score,4))) # Le pido que printee el score del modelo. Le pido que lo haga con 4 cifras significativas\n",
        "print('Matriz de confusion del modelo es:')\n",
        "print(cm)\n",
        "print('Sensibilidad del modelo es de: {}'.format(round(metricas[0],4)))  \n",
        "print('Especificidad del modelo es de: {}'.format(round(metricas[1],4)))  \n",
        "print('BA del modelo es de: {}'.format(round(metricas[2],4))) \n",
        "\n"
      ],
      "execution_count": null,
      "outputs": [
        {
          "output_type": "stream",
          "text": [
            "(1054, 5)\n",
            "El score del modelo es de: 0.6632\n",
            "Matriz de confusion del modelo es:\n",
            "[[468 106]\n",
            " [249 231]]\n",
            "Sensibilidad del modelo es de: 0.6855\n",
            "Especificidad del modelo es de: 0.6527\n",
            "BA del modelo es de: 0.6691\n"
          ],
          "name": "stdout"
        }
      ]
    },
    {
      "cell_type": "markdown",
      "metadata": {
        "id": "KN7xRZun_o-o"
      },
      "source": [
        "Pero ahora vamos a empezar a aumentar el espacio de features, primero agregando los términos cuadráticos y cúbicos:"
      ]
    },
    {
      "cell_type": "code",
      "metadata": {
        "colab": {
          "base_uri": "https://localhost:8080/"
        },
        "id": "6aW_rxM7_zNt",
        "outputId": "67fcecf9-623f-4949-a9b4-f0799cc93e7b"
      },
      "source": [
        "X_1 = np.concatenate((X, X**2,X**3,X**4, X**5), axis=1)\n",
        "\n",
        "scaler = MinMaxScaler() # primero creo un objeto MinMaxScaler. Por defecto, esto normaliza los datos al intervalo [0,1]\n",
        "scaler.fit(X_1) # encuentro los parametros para el escaleo\n",
        "X_1 = scaler.transform(X_1) # aplico la transformacion\n",
        "\n",
        "regLog_1 = LogisticRegression(penalty = 'none', class_weight='balanced', max_iter=10000) # Inicializamos nuevamente el modelo. max_iter es la cantidad de iteraciones maximas del algoritmo de optimizacion de parametros antes de detenerse.\n",
        "regLog_1.fit(X_1, y) # Ajustamos el modelo con los parámetros\n",
        "score = regLog_1.score(X_1,y) # Calculamos el score\n",
        "\n",
        "ypred = regLog_1.predict(X_1) # con esto obtengo la predicción de las etiquetas en base a mis datos\n",
        "cm = confusion_matrix(ypred, y) # primera entrada son las etiquetas predichas, segunda son las reales\n",
        "metricas = balanced_accuracy(cm)\n",
        "\n",
        "print('El score del modelo es de: {}'.format(round(score,4))) # Le pido que printee el score del modelo. Le pido que lo haga con 4 cifras significativas\n",
        "print('Matriz de confusion del modelo es:')\n",
        "print(cm)\n",
        "print('Sensibilidad del modelo es de: {}'.format(round(metricas[0],4)))  \n",
        "print('Especificidad del modelo es de: {}'.format(round(metricas[1],4)))  \n",
        "print('BA del modelo es de: {}'.format(round(metricas[2],4))) \n",
        "\n"
      ],
      "execution_count": null,
      "outputs": [
        {
          "output_type": "stream",
          "text": [
            "El score del modelo es de: 0.7068\n",
            "Matriz de confusion del modelo es:\n",
            "[[506  98]\n",
            " [211 239]]\n",
            "Sensibilidad del modelo es de: 0.7092\n",
            "Especificidad del modelo es de: 0.7057\n",
            "BA del modelo es de: 0.7075\n"
          ],
          "name": "stdout"
        }
      ]
    },
    {
      "cell_type": "markdown",
      "metadata": {
        "id": "KzWlPvRfHN1d"
      },
      "source": [
        "Tenemos que el BA está aparentemente mejorando.\n",
        "\n",
        "¿Significa que el segundo clasificador tiene mejor performance que el primero?\n",
        "\n",
        "La respuesta es que sí... pero puede ser por sobreajuste. Entonces, ¿cómo hago para averiguar si efectivamente estoy sobreajustando?"
      ]
    },
    {
      "cell_type": "markdown",
      "metadata": {
        "id": "Figkos_1HmCU"
      },
      "source": [
        "# Train - test split\n",
        "\n",
        "Una forma de hacer esto es separar parte de los datos para entrenar el modelo (obtener los parámetros) y dejar otra parte para evaluar la performance del modelo. Al hacer eso, tengo las siguientes posibilidades,\n",
        "\n",
        "*   **La performance es baja en el set de entrenamiento y baja en el set de evaluación.** En este caso, necesito o más datos, o más features (puedo probar agregar features que ya tenía transformándolos).\n",
        "\n",
        "*   **La performance es alta en el set de entrenamiento y baja en el set de evaluación.** En este caso, estoy sobreajustando. Puedo intentar resolver esto sumando más datos a mi modelo, o bien aplicando regularización.\n",
        "\n",
        "*   **La performance es alta en el set de entrenamiento y alta en el set de evaluación.** El caso ideal: aprendí parámetros que me sirven para generalizar a datos nuevos sin sobreajustar.\n",
        "\n",
        "Podemos usar:\n",
        "\n",
        "```\n",
        "sklearn.model_selection.train_test_split\n",
        "```\n",
        "\n",
        "para separar los datos en partes de entrenamiento y de evaluación, de forma aleatoria.\n",
        "\n",
        "\n"
      ]
    },
    {
      "cell_type": "code",
      "metadata": {
        "colab": {
          "base_uri": "https://localhost:8080/"
        },
        "id": "OtFdNvnhIlaW",
        "outputId": "5ac28c6d-8b15-4e91-fd22-25f3f60e0508"
      },
      "source": [
        "from sklearn.model_selection import train_test_split\n",
        "\n",
        "X_train, X_test, y_train, y_test = train_test_split(X, y, test_size=0.3)\n",
        "\n",
        "scaler = MinMaxScaler() # primero creo un objeto MinMaxScaler. Por defecto, esto normaliza los datos al intervalo [0,1]\n",
        "scaler.fit(X_train) # encuentro los parametros para el escaleo\n",
        "X_train = scaler.transform(X_train) # aplico la transformacion\n",
        "\n",
        "scaler = MinMaxScaler() # primero creo un objeto MinMaxScaler. Por defecto, esto normaliza los datos al intervalo [0,1]\n",
        "scaler.fit(X_test) # encuentro los parametros para el escaleo\n",
        "X_test = scaler.transform(X_test) # aplico la transformacion\n",
        "\n",
        "#### IMPORTANTE: HAGO LA NORMALIZACION DE LOS DATOS POR SEPARADO EN LOS SETS DE TRAIN Y TEST\n",
        "\n",
        "regLog = LogisticRegression(penalty = 'none', class_weight='balanced', max_iter=10000) # Inicializamos nuevamente el modelo\n",
        "regLog.fit(X_train, y_train) # Ajustamos el modelo con los parámetros\n",
        "\n",
        "score_train = regLog.score(X_train,y_train) # Calculamos el score\n",
        "ypred_train = regLog.predict(X_train) # con esto obtengo la predicción de las etiquetas en base a mis datos\n",
        "cm_train = confusion_matrix(ypred_train, y_train) # primera entrada son las etiquetas predichas, segunda son las reales\n",
        "metricas_train = balanced_accuracy(cm_train)\n",
        "\n",
        "print('Para TRAIN set:')\n",
        "print('El score del modelo es de: {}'.format(round(score_train,4))) # Le pido que printee el score del modelo. Le pido que lo haga con 4 cifras significativas\n",
        "print('Matriz de confusion del modelo es:')\n",
        "print(cm_train)\n",
        "print('Sensibilidad del modelo es de: {}'.format(round(metricas_train[0],4)))  \n",
        "print('Especificidad del modelo es de: {}'.format(round(metricas_train[1],4)))  \n",
        "print('BA del modelo es de: {}'.format(round(metricas_train[2],4))) \n",
        "print('\\n')\n",
        "\n",
        "score_test= regLog.score(X_test,y_test) # Calculamos el score\n",
        "ypred_test= regLog.predict(X_test) # con esto obtengo la predicción de las etiquetas en base a mis datos\n",
        "cm_test = confusion_matrix(ypred_test, y_test) # primera entrada son las etiquetas predichas, segunda son las reales\n",
        "metricas_test = balanced_accuracy(cm_test)\n",
        "\n",
        "\n",
        "print('Para TEST set:')\n",
        "print('El score del modelo es de: {}'.format(round(score_test,4))) # Le pido que printee el score del modelo. Le pido que lo haga con 4 cifras significativas\n",
        "print('Matriz de confusion del modelo es:')\n",
        "print(cm_test)\n",
        "print('Sensibilidad del modelo es de: {}'.format(round(metricas_test[0],4)))  \n",
        "print('Especificidad del modelo es de: {}'.format(round(metricas_test[1],4)))  \n",
        "print('BA del modelo es de: {}'.format(round(metricas_test[2],4))) \n"
      ],
      "execution_count": null,
      "outputs": [
        {
          "output_type": "stream",
          "text": [
            "Para TRAIN set:\n",
            "El score del modelo es de: 0.6608\n",
            "Matriz de confusion del modelo es:\n",
            "[[335  73]\n",
            " [177 152]]\n",
            "Sensibilidad del modelo es de: 0.6756\n",
            "Especificidad del modelo es de: 0.6543\n",
            "BA del modelo es de: 0.6649\n",
            "\n",
            "\n",
            "Para TEST set:\n",
            "El score del modelo es de: 0.7161\n",
            "Matriz de confusion del modelo es:\n",
            "[[182  67]\n",
            " [ 23  45]]\n",
            "Sensibilidad del modelo es de: 0.4018\n",
            "Especificidad del modelo es de: 0.8878\n",
            "BA del modelo es de: 0.6448\n"
          ],
          "name": "stdout"
        }
      ]
    },
    {
      "cell_type": "markdown",
      "metadata": {
        "id": "vSO8LLDtKqpe"
      },
      "source": [
        "Vemos que en este caso en general tendremos peores performance en el test set (ojo con las fluctuaciones estocasticas por al armar el train-test split)\n",
        "\n",
        "¿Y si vamos al caso con features polinómicos agregados?"
      ]
    },
    {
      "cell_type": "code",
      "metadata": {
        "colab": {
          "base_uri": "https://localhost:8080/"
        },
        "id": "NW0_Di1JK3yK",
        "outputId": "c98f4183-e788-41dd-f9ef-4be18a7310cb"
      },
      "source": [
        "# Definamos la matriz X\n",
        "campos = ['temperaturaMinima', 'temperaturaMaxima', 'humedad', 'rocio', 'vapor'] # Lista que contiene las features de interés.\n",
        "X = d_filtrado[campos].values # En este caso no hace falta reshapear, porque ya tiene la forma que queremos\n",
        "\n",
        "X_temp = X\n",
        "for i in np.arange(2,5):\n",
        "    X_temp = np.concatenate((X_temp,X**i), axis=1)\n",
        "X_1 = X_temp\n",
        " \n",
        "\n",
        "\n",
        "X_train, X_test, y_train, y_test = train_test_split(X_1, y, test_size=0.3)\n",
        "\n",
        "scaler = MinMaxScaler() # primero creo un objeto MinMaxScaler. Por defecto, esto normaliza los datos al intervalo [0,1]\n",
        "scaler.fit(X_train) # encuentro los parametros para el escaleo\n",
        "X_train = scaler.transform(X_train) # aplico la transformacion\n",
        "\n",
        "scaler = MinMaxScaler() # primero creo un objeto MinMaxScaler. Por defecto, esto normaliza los datos al intervalo [0,1]\n",
        "scaler.fit(X_test) # encuentro los parametros para el escaleo\n",
        "X_test = scaler.transform(X_test) # aplico la transformacion\n",
        "\n",
        "regLog_1 = LogisticRegression(penalty = 'none', class_weight='balanced', max_iter=50000) # Inicializamos nuevamente el modelo\n",
        "regLog_1.fit(X_train, y_train) # Ajustamos el modelo con los parámetros\n",
        "\n",
        "score_train = regLog_1.score(X_train,y_train) # Calculamos el score\n",
        "ypred_train = regLog_1.predict(X_train) # con esto obtengo la predicción de las etiquetas en base a mis datos\n",
        "cm_train = confusion_matrix(ypred_train, y_train) # primera entrada son las etiquetas predichas, segunda son las reales\n",
        "metricas_train = balanced_accuracy(cm_train)\n",
        "\n",
        "print('Para TRAIN set:')\n",
        "print('El score del modelo es de: {}'.format(round(score_train,4))) # Le pido que printee el score del modelo. Le pido que lo haga con 4 cifras significativas\n",
        "print('Matriz de confusion del modelo es:')\n",
        "print(cm_train)\n",
        "print('Sensibilidad del modelo es de: {}'.format(round(metricas_train[0],4)))  \n",
        "print('Especificidad del modelo es de: {}'.format(round(metricas_train[1],4)))  \n",
        "print('BA del modelo es de: {}'.format(round(metricas_train[2],4))) \n",
        "print('\\n')\n",
        "\n",
        "score_test= regLog_1.score(X_test,y_test) # Calculamos el score\n",
        "ypred_test= regLog_1.predict(X_test) # con esto obtengo la predicción de las etiquetas en base a mis datos\n",
        "cm_test = confusion_matrix(ypred_test, y_test) # primera entrada son las etiquetas predichas, segunda son las reales\n",
        "metricas_test = balanced_accuracy(cm_test)\n",
        "\n",
        "\n",
        "print('Para TEST set:')\n",
        "print('El score del modelo es de: {}'.format(round(score_test,4))) # Le pido que printee el score del modelo. Le pido que lo haga con 4 cifras significativas\n",
        "print('Matriz de confusion del modelo es:')\n",
        "print(cm_test)\n",
        "print('Sensibilidad del modelo es de: {}'.format(round(metricas_test[0],4)))  \n",
        "print('Especificidad del modelo es de: {}'.format(round(metricas_test[1],4)))  \n",
        "print('BA del modelo es de: {}'.format(round(metricas_test[2],4))) \n"
      ],
      "execution_count": null,
      "outputs": [
        {
          "output_type": "stream",
          "text": [
            "Para TRAIN set:\n",
            "El score del modelo es de: 0.7191\n",
            "Matriz de confusion del modelo es:\n",
            "[[358  78]\n",
            " [129 172]]\n",
            "Sensibilidad del modelo es de: 0.688\n",
            "Especificidad del modelo es de: 0.7351\n",
            "BA del modelo es de: 0.7116\n",
            "\n",
            "\n",
            "Para TEST set:\n",
            "El score del modelo es de: 0.7224\n",
            "Matriz de confusion del modelo es:\n",
            "[[229  87]\n",
            " [  1   0]]\n",
            "Sensibilidad del modelo es de: 0.0\n",
            "Especificidad del modelo es de: 0.9957\n",
            "BA del modelo es de: 0.4978\n"
          ],
          "name": "stdout"
        }
      ]
    },
    {
      "cell_type": "markdown",
      "metadata": {
        "id": "22hbslJVLkPE"
      },
      "source": [
        "Esto es todavia peor en el test set. Señal de que estamos sobreajustando los datos.\n",
        "\n",
        "Veamos si mejora algo la regularización..."
      ]
    },
    {
      "cell_type": "code",
      "metadata": {
        "colab": {
          "base_uri": "https://localhost:8080/"
        },
        "id": "nJezK8sALnRz",
        "outputId": "3d50f2c4-070e-431a-9121-aec4a42ebee4"
      },
      "source": [
        "# Definamos la matriz X\n",
        "campos = ['temperaturaMinima', 'temperaturaMaxima', 'humedad', 'rocio', 'vapor'] # Lista que contiene las features de interés.\n",
        "X = d_filtrado[campos].values # En este caso no hace falta reshapear, porque ya tiene la forma que queremos\n",
        "\n",
        "\n",
        "X_temp = X\n",
        "for i in np.arange(2,5):\n",
        "    X_temp = np.concatenate((X_temp,X**i), axis=1)\n",
        "X_1 = X_temp\n",
        " \n",
        "\n",
        "X_train, X_test, y_train, y_test = train_test_split(X_1, y, test_size=0.3)\n",
        "\n",
        "scaler = MinMaxScaler() # primero creo un objeto MinMaxScaler. Por defecto, esto normaliza los datos al intervalo [0,1]\n",
        "scaler.fit(X_train) # encuentro los parametros para el escaleo\n",
        "X_train = scaler.transform(X_train) # aplico la transformacion\n",
        "\n",
        "scaler = MinMaxScaler() # primero creo un objeto MinMaxScaler. Por defecto, esto normaliza los datos al intervalo [0,1]\n",
        "scaler.fit(X_test) # encuentro los parametros para el escaleo\n",
        "X_test = scaler.transform(X_test) # aplico la transformacion\n",
        "\n",
        "regLog_1 = LogisticRegression(penalty = 'l2', class_weight='balanced', max_iter=10000) # Inicializamos nuevamente el modelo\n",
        "regLog_1.fit(X_train, y_train) # Ajustamos el modelo con los parámetros\n",
        "\n",
        "score_train = regLog_1.score(X_train,y_train) # Calculamos el score\n",
        "ypred_train = regLog_1.predict(X_train) # con esto obtengo la predicción de las etiquetas en base a mis datos\n",
        "cm_train = confusion_matrix(ypred_train, y_train) # primera entrada son las etiquetas predichas, segunda son las reales\n",
        "metricas_train = balanced_accuracy(cm_train)\n",
        "\n",
        "print('Para TRAIN set:')\n",
        "print('El score del modelo es de: {}'.format(round(score_train,4))) # Le pido que printee el score del modelo. Le pido que lo haga con 4 cifras significativas\n",
        "print('Matriz de confusion del modelo es:')\n",
        "print(cm_train)\n",
        "print('Sensibilidad del modelo es de: {}'.format(round(metricas_train[0],4)))  \n",
        "print('Especificidad del modelo es de: {}'.format(round(metricas_train[1],4)))  \n",
        "print('BA del modelo es de: {}'.format(round(metricas_train[2],4))) \n",
        "print('\\n')\n",
        "\n",
        "score_test= regLog_1.score(X_test,y_test) # Calculamos el score\n",
        "ypred_test= regLog_1.predict(X_test) # con esto obtengo la predicción de las etiquetas en base a mis datos\n",
        "cm_test = confusion_matrix(ypred_test, y_test) # primera entrada son las etiquetas predichas, segunda son las reales\n",
        "metricas_test = balanced_accuracy(cm_test)\n",
        "\n",
        "\n",
        "print('Para TEST set:')\n",
        "print('El score del modelo es de: {}'.format(round(score_test,4))) # Le pido que printee el score del modelo. Le pido que lo haga con 4 cifras significativas\n",
        "print('Matriz de confusion del modelo es:')\n",
        "print(cm_test)\n",
        "print('Sensibilidad del modelo es de: {}'.format(round(metricas_test[0],4)))  \n",
        "print('Especificidad del modelo es de: {}'.format(round(metricas_test[1],4)))  \n",
        "print('BA del modelo es de: {}'.format(round(metricas_test[2],4))) "
      ],
      "execution_count": null,
      "outputs": [
        {
          "output_type": "stream",
          "text": [
            "Para TRAIN set:\n",
            "El score del modelo es de: 0.6974\n",
            "Matriz de confusion del modelo es:\n",
            "[[356  83]\n",
            " [140 158]]\n",
            "Sensibilidad del modelo es de: 0.6556\n",
            "Especificidad del modelo es de: 0.7177\n",
            "BA del modelo es de: 0.6867\n",
            "\n",
            "\n",
            "Para TEST set:\n",
            "El score del modelo es de: 0.6246\n",
            "Matriz de confusion del modelo es:\n",
            "[[117  15]\n",
            " [104  81]]\n",
            "Sensibilidad del modelo es de: 0.8438\n",
            "Especificidad del modelo es de: 0.5294\n",
            "BA del modelo es de: 0.6866\n"
          ],
          "name": "stdout"
        }
      ]
    },
    {
      "cell_type": "markdown",
      "metadata": {
        "id": "nt3mN6rJL2ZU"
      },
      "source": [
        "# Optimización de hiperparámetros\n",
        "\n",
        "Vimos que al sumar regularización, la performance del modelo de repente se ve incrementada en el test set. Posiblemente esto dependa del valor de la constante de penalización C que usamos para la regresión. **Esto es lo que llamamos un hiperparámetro del modelo.** Otro hiperparámetro posible es el grado de la potencia máxima en la que aparecen los features.\n",
        "\n",
        "Entonces tiene sentido hacer la siguiente pregunta: ¿para qué elección de hiperparámetros **maximizo** la performance del clasificador en el dataset de evaluación (test)?\n",
        "\n",
        "Vamos a proponer la siguiente forma de abordar este problema:\n",
        "\n",
        "1.   Generamos una función que entrene y evalue el clasificador usando un train-test split, que incorpore como input los hiperparámetros\n",
        "2.   Para cada elección del par de hiperparámetros, repetimos este procedimiento unas cuantas (>100) veces y nos quedamos con la performance promedio. Esto es necesario porque el train-test split es aleatorio.\n",
        "3.   Repetimos para todas las combinaciones de nuestros hiperparámetros y encontramos aquella que maximiza la performance del clasificador.\n",
        "\n"
      ]
    },
    {
      "cell_type": "code",
      "metadata": {
        "id": "XmQlOdxvNGog"
      },
      "source": [
        "def classifier(X,y,n,c):  # X es la matriz de features, y los labels, n-1 la potencia máxima en la que aparecerán los features, C es la constante de regularización\n",
        "\n",
        "  X_temp = X\n",
        "  for i in np.arange(2,n):\n",
        "    X_temp = np.concatenate((X_temp,X**i), axis=1)\n",
        "  X = X_temp\n",
        " \n",
        "  \n",
        "  X_train, X_test, y_train, y_test = train_test_split(X, y, test_size=0.3)\n",
        "\n",
        "  scaler = MinMaxScaler() # primero creo un objeto MinMaxScaler. Por defecto, esto normaliza los datos al intervalo [0,1]\n",
        "  scaler.fit(X_train) # encuentro los parametros para el escaleo\n",
        "  X_train = scaler.transform(X_train) # aplico la transformacion\n",
        "\n",
        "  scaler = MinMaxScaler() # primero creo un objeto MinMaxScaler. Por defecto, esto normaliza los datos al intervalo [0,1]\n",
        "  scaler.fit(X_test) # encuentro los parametros para el escaleo\n",
        "  X_test = scaler.transform(X_test) # aplico la transformacion\n",
        "\n",
        "  regLog = LogisticRegression(penalty = 'l2', class_weight='balanced', C=c, max_iter=10000) \n",
        "  regLog.fit(X_train, y_train) \n",
        "  \n",
        "  ypred_train = regLog.predict(X_train) # con esto obtengo la predicción de las etiquetas en base a mis datos\n",
        "  cm_train = confusion_matrix(ypred_train, y_train) # primera entrada son las etiquetas predichas, segunda son las reales\n",
        "  metricas_train = balanced_accuracy(cm_train)\n",
        "\n",
        "  ypred_test = regLog.predict(X_test) # con esto obtengo la predicción de las etiquetas en base a mis datos\n",
        "  cm_test= confusion_matrix(ypred_test, y_test) # primera entrada son las etiquetas predichas, segunda son las reales\n",
        "  metricas_test = balanced_accuracy(cm_test)\n",
        "\n",
        "  return metricas_train[2], metricas_test[2]"
      ],
      "execution_count": null,
      "outputs": []
    },
    {
      "cell_type": "markdown",
      "metadata": {
        "id": "rarcHWDwObEC"
      },
      "source": [
        "Probemos algunos casos particulares y veamos como depende del azar,"
      ]
    },
    {
      "cell_type": "code",
      "metadata": {
        "colab": {
          "base_uri": "https://localhost:8080/"
        },
        "id": "AB3U3gmKNeHZ",
        "outputId": "bf8efbb8-02d5-4586-d825-f3f5fd74057d"
      },
      "source": [
        " # repitamos varias veces para ver como cambia\n",
        "\n",
        "campos = ['temperaturaMinima', 'temperaturaMaxima', 'humedad', 'rocio', 'vapor'] # Lista que contiene las features de interés.\n",
        "X = d_filtrado[campos].values # En este caso no hace falta reshapear, porque ya tiene la forma que queremos\n",
        "y = d_filtrado['llueveNollueve'] # Nuestra etiqueta sigue siende la misma de antes\n",
        "\n",
        "\n",
        "BA_train, BA_test = classifier(X,y,6,1)  \n",
        "print(BA_train, BA_test)\n",
        "\n",
        "# aumento C\n",
        "\n",
        "BA_train, BA_test = classifier(X,y,6,1000)  \n",
        "print(BA_train, BA_test)\n",
        "\n",
        "# disminuyo C\n",
        "\n",
        "BA_train, BA_test = classifier(X,y,6,0.0001)  \n",
        "print(BA_train, BA_test)\n"
      ],
      "execution_count": null,
      "outputs": [
        {
          "output_type": "stream",
          "text": [
            "0.6939156161564188 0.6710280373831776\n",
            "0.7059943401080524 0.6380284824210058\n",
            "0.6382570101211216 0.6868115942028985\n"
          ],
          "name": "stdout"
        }
      ]
    },
    {
      "cell_type": "markdown",
      "metadata": {
        "id": "hM221a5zPVl_"
      },
      "source": [
        "Claramente es difícil sacar conclusiones. Así que vamos a recorrer sistemáticamente los valores de una grilla, replicando muchas veces en cada combinación.\n"
      ]
    },
    {
      "cell_type": "code",
      "metadata": {
        "colab": {
          "base_uri": "https://localhost:8080/"
        },
        "id": "Cy5XMD3sPpjN",
        "outputId": "e15a97d2-d9f4-4a0b-ab7b-2a21c8c9e5a5"
      },
      "source": [
        "campos = ['temperaturaMinima', 'temperaturaMaxima', 'humedad', 'rocio', 'vapor'] # Lista que contiene las features de interés.\n",
        "X = d_filtrado[campos].values # En este caso no hace falta reshapear, porque ya tiene la forma que queremos\n",
        "y = d_filtrado['llueveNollueve'] # Nuestra etiqueta sigue siende la misma de antes\n",
        "\n",
        "n_values = np.arange(1,7) # rango de potencias maximas \n",
        "c_values = np.arange(0.2,5,0.2) # rango de constantes de regularizacion\n",
        "\n",
        "iterations = 500 # esto se puede poner en 100 para que no tarde mil años durante la clase\n",
        "\n",
        "mean_BA_train = np.zeros((len(n_values),len(c_values))) #  los arrays con los balanced accuracy para cada combinacion de hiperparametros, para train y test\n",
        "mean_BA_test = np.zeros((len(n_values),len(c_values)))\n",
        "\n",
        "for xx,n in enumerate(n_values): # itero sobre n\n",
        "    for yy,c in enumerate(c_values): # itero sobre c\n",
        "      BA_test_temp = [] # variables temporales para ir poniendo los resultados a lo largo de las iteraciones\n",
        "      BA_train_temp = []\n",
        "      print([n,c]) # esto es para los ansiosos\n",
        "      for it in np.arange(iterations): # itero\n",
        "          BA_train, BA_test = classifier(X,y,n,c)  # calculo las balanced accuracy para esos hiperparametros\n",
        "          BA_test_temp.append(BA_test) # agrego a las variables temporales\n",
        "          BA_train_temp.append(BA_train)\n",
        "      mean_BA_train[xx,yy] = np.mean(BA_train_temp) # calculo promedios\n",
        "      mean_BA_test[xx,yy] = np.mean(BA_test_temp)\n",
        "\n",
        "\n"
      ],
      "execution_count": null,
      "outputs": [
        {
          "output_type": "stream",
          "text": [
            "[1 2 3 4 5 6]\n",
            "[0.2 0.4 0.6 0.8 1.  1.2 1.4 1.6 1.8 2.  2.2 2.4 2.6 2.8 3.  3.2 3.4 3.6\n",
            " 3.8 4.  4.2 4.4 4.6 4.8]\n",
            "[0, 0]\n",
            "[0, 1]\n",
            "[0, 2]\n",
            "[0, 3]\n",
            "[0, 4]\n",
            "[0, 5]\n",
            "[0, 6]\n",
            "[0, 7]\n",
            "[0, 8]\n",
            "[0, 9]\n",
            "[0, 10]\n",
            "[0, 11]\n",
            "[0, 12]\n",
            "[0, 13]\n",
            "[0, 14]\n",
            "[0, 15]\n",
            "[0, 16]\n",
            "[0, 17]\n",
            "[0, 18]\n",
            "[0, 19]\n",
            "[0, 20]\n",
            "[0, 21]\n",
            "[0, 22]\n",
            "[0, 23]\n",
            "[1, 0]\n",
            "[1, 1]\n",
            "[1, 2]\n",
            "[1, 3]\n",
            "[1, 4]\n",
            "[1, 5]\n",
            "[1, 6]\n",
            "[1, 7]\n",
            "[1, 8]\n",
            "[1, 9]\n",
            "[1, 10]\n",
            "[1, 11]\n",
            "[1, 12]\n",
            "[1, 13]\n",
            "[1, 14]\n",
            "[1, 15]\n",
            "[1, 16]\n",
            "[1, 17]\n",
            "[1, 18]\n",
            "[1, 19]\n",
            "[1, 20]\n",
            "[1, 21]\n",
            "[1, 22]\n",
            "[1, 23]\n",
            "[2, 0]\n",
            "[2, 1]\n",
            "[2, 2]\n",
            "[2, 3]\n",
            "[2, 4]\n",
            "[2, 5]\n",
            "[2, 6]\n",
            "[2, 7]\n",
            "[2, 8]\n",
            "[2, 9]\n",
            "[2, 10]\n",
            "[2, 11]\n",
            "[2, 12]\n",
            "[2, 13]\n",
            "[2, 14]\n",
            "[2, 15]\n",
            "[2, 16]\n",
            "[2, 17]\n",
            "[2, 18]\n",
            "[2, 19]\n",
            "[2, 20]\n",
            "[2, 21]\n",
            "[2, 22]\n",
            "[2, 23]\n",
            "[3, 0]\n",
            "[3, 1]\n",
            "[3, 2]\n",
            "[3, 3]\n",
            "[3, 4]\n",
            "[3, 5]\n",
            "[3, 6]\n",
            "[3, 7]\n",
            "[3, 8]\n",
            "[3, 9]\n",
            "[3, 10]\n",
            "[3, 11]\n",
            "[3, 12]\n",
            "[3, 13]\n",
            "[3, 14]\n",
            "[3, 15]\n",
            "[3, 16]\n",
            "[3, 17]\n",
            "[3, 18]\n",
            "[3, 19]\n",
            "[3, 20]\n",
            "[3, 21]\n",
            "[3, 22]\n",
            "[3, 23]\n",
            "[4, 0]\n",
            "[4, 1]\n",
            "[4, 2]\n",
            "[4, 3]\n",
            "[4, 4]\n",
            "[4, 5]\n",
            "[4, 6]\n",
            "[4, 7]\n",
            "[4, 8]\n",
            "[4, 9]\n",
            "[4, 10]\n",
            "[4, 11]\n",
            "[4, 12]\n",
            "[4, 13]\n",
            "[4, 14]\n",
            "[4, 15]\n",
            "[4, 16]\n",
            "[4, 17]\n",
            "[4, 18]\n",
            "[4, 19]\n",
            "[4, 20]\n",
            "[4, 21]\n",
            "[4, 22]\n",
            "[4, 23]\n",
            "[5, 0]\n",
            "[5, 1]\n",
            "[5, 2]\n",
            "[5, 3]\n",
            "[5, 4]\n",
            "[5, 5]\n",
            "[5, 6]\n",
            "[5, 7]\n",
            "[5, 8]\n",
            "[5, 9]\n",
            "[5, 10]\n",
            "[5, 11]\n",
            "[5, 12]\n",
            "[5, 13]\n",
            "[5, 14]\n",
            "[5, 15]\n",
            "[5, 16]\n",
            "[5, 17]\n",
            "[5, 18]\n",
            "[5, 19]\n",
            "[5, 20]\n",
            "[5, 21]\n",
            "[5, 22]\n",
            "[5, 23]\n"
          ],
          "name": "stdout"
        }
      ]
    },
    {
      "cell_type": "markdown",
      "metadata": {
        "id": "mUihtt8BM5Ho"
      },
      "source": [
        "Por último, grafico como me quedan las BA para cada combinación de hiperparametros, y puedo encontrar cual es la BA máxima para cada caso, y con qué hiperparámetros la obtengo."
      ]
    },
    {
      "cell_type": "code",
      "metadata": {
        "colab": {
          "base_uri": "https://localhost:8080/",
          "height": 892
        },
        "id": "bNNGr6HzQt7Y",
        "outputId": "d07f42ae-dba8-4625-ad62-6573d224b1cb"
      },
      "source": [
        "\n",
        "fig, ax = plt.subplots(1,1, figsize=(8,8))  # visualizacion train set\n",
        "img = ax.imshow(mean_BA_train) # graficamos la matriz\n",
        "y_label_list = n_values # estos son los ticks de los ejes\n",
        "x_label_list = c_values\n",
        "ax.set_xticks(np.arange(len(c_values))) # creo los ticks de los ejes\n",
        "ax.set_yticks(np.arange(len(n_values)))\n",
        "ax.set_yticklabels(y_label_list) # pongo los ticks de los ejes\n",
        "ax.set_xticklabels(x_label_list)\n",
        "plt.xlabel('C (constante de regularizacion)', fontsize=15) # le pongo nombre a ejes y titulo \n",
        "plt.ylabel('n (potencia maxima para elevar)', fontsize=15)\n",
        "plt.title('BA (train set)', fontsize=20)\n",
        "fig.colorbar(img, orientation=\"horizontal\", pad=0.2) # la barra de colores donde no me moleste\n",
        "\n",
        "fig, ax = plt.subplots(1,1, figsize=(8,8)) # visualizacion test set, ver comentarios para el caso train, es idéntico\n",
        "img = ax.imshow(mean_BA_test)\n",
        "y_label_list = n_values\n",
        "x_label_list = c_values\n",
        "ax.set_xticks(np.arange(len(c_values)))\n",
        "ax.set_yticks(np.arange(len(n_values)))\n",
        "ax.set_yticklabels(y_label_list)\n",
        "ax.set_xticklabels(x_label_list)\n",
        "plt.xlabel('C (constante de regularizacion)', fontsize=15)\n",
        "plt.ylabel('n (potencia maxima para elevar)', fontsize=15)\n",
        "plt.title('BA (test set)', fontsize=20)\n",
        "fig.colorbar(img, orientation=\"horizontal\", pad=0.2)\n"
      ],
      "execution_count": null,
      "outputs": [
        {
          "output_type": "execute_result",
          "data": {
            "text/plain": [
              "<matplotlib.colorbar.Colorbar at 0x7fc16165a850>"
            ]
          },
          "metadata": {
            "tags": []
          },
          "execution_count": 230
        },
        {
          "output_type": "display_data",
          "data": {
            "image/png": "[encoded data removed]",
            "text/plain": [
              "<Figure size 576x576 with 2 Axes>"
            ]
          },
          "metadata": {
            "tags": [],
            "needs_background": "light"
          }
        },
        {
          "output_type": "display_data",
          "data": {
            "image/png": "[encoded data removed]",
            "text/plain": [
              "<Figure size 576x576 with 2 Axes>"
            ]
          },
          "metadata": {
            "tags": [],
            "needs_background": "light"
          }
        }
      ]
    },
    {
      "cell_type": "markdown",
      "metadata": {
        "id": "2oY49Rj9NVz4"
      },
      "source": [
        "Vemos entonces que en el caso de train set, como es esperado, aumenta la performance a medida que sumo potencias de grado mayor de los features.\n",
        "\n",
        "En el caso del test set no es tan simple. Necesito ademas que la constante de regularizacion tenga un valor cercano a 2."
      ]
    },
    {
      "cell_type": "markdown",
      "metadata": {
        "id": "gDuKAdHcOd61"
      },
      "source": [
        "# Para llevarse de este notebook\n",
        "\n",
        "*   A la hora de evaluar si hay sobreajuste, es clave armar un train-test split, entrenar en el primero y evaluar en el segundo:\n",
        "\n",
        "\n",
        "```\n",
        "from sklearn.model_selection import train_test_split\n",
        "\n",
        "X_train, X_test, y_train, y_test = train_test_split(X, y, test_size=0.3)\n",
        "```\n",
        "\n",
        "Como este split es al azar, se recomienda hacerlo muchas veces y luego promediar las accuracies resultantes para tener una buena idea de la performance del clasificador en ambos grupos.\n",
        "\n",
        "\n"
      ]
    },
    {
      "cell_type": "markdown",
      "metadata": {
        "id": "9ka8I69vNjMm"
      },
      "source": [
        "# Preguntas extra\n",
        "\n",
        "*   **Estimamos la performance como el máximo de la matriz de balanced accuracies para el test set. Elegimos la combinación de hiperparámetros que resulta en ese máximo. Ahora vamos a aplicar el clasificador a un nuevo subconjunto de datos, y obtenemos una performance peor de lo que esperábamos. ¿Por qué?**\n",
        "*   Probar agregando otras features, por ejemplo, términos cruzados, y ver cómo cambia la performance. \n",
        "*   Esta vez usamos cinco features. ¿Es más mejor? ¿Puedo aumentar la performance si borro features que no son importantes?\n",
        "*   Si tengo 5 features, en principio hay 2^5 posibles clasificadores usando todos los subconjuntos de features posibles. Claramente, a medida que aumenta la cantidad de features, hacer una evaluacion exhaustiva se vuelve imposible. Este es el problema de *seleccion de features* ¿Se te ocurra alguna idea sobre cómo abordarlo si la cantidad de features es muy grande?\n",
        "\n"
      ]
    }
  ]
}