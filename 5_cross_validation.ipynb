{
  "nbformat": 4,
  "nbformat_minor": 0,
  "metadata": {
    "colab": {
      "name": "Clase 10: Validación cruzada.ipynb",
      "provenance": [],
      "collapsed_sections": [],
      "toc_visible": true
    },
    "kernelspec": {
      "name": "python3",
      "display_name": "Python 3"
    },
    "language_info": {
      "name": "python"
    }
  },
  "cells": [
    {
      "cell_type": "markdown",
      "metadata": {
        "id": "FNm-dDcDWYET"
      },
      "source": [
        "# Más sobre evaluación de modelos y selección de features (segunda parte)\n",
        "\n",
        "En este segundo notebook vamos a ver otra forma distinta (y más usada) de estimar la performance de modelos en vez del *train-test split*.\n",
        "\n",
        "Seguimos trabajando con los datos de INTA, así que repetimos el proceso para cargarlos."
      ]
    },
    {
      "cell_type": "code",
      "metadata": {
        "id": "jTujCTikWGp6",
        "colab": {
          "base_uri": "https://localhost:8080/"
        },
        "outputId": "d48b95f1-3b8c-462c-d295-e62a520c6445"
      },
      "source": [
        "# Como siempre, tratamos de traer todos los paquetes al ppio\n",
        "from google.colab import drive # Para montar nuestro drive en la consola\n",
        "import matplotlib.pylab as plt # Para gráficos\n",
        "import numpy as np # Para manejo de arrays, operaciones matemáticas, etc.\n",
        "from sklearn.linear_model import LogisticRegression # El método de regresión logística que vamos a usar\n",
        "import pandas as pd # Para manejo de base de datos\n",
        "\n",
        "# Traemos los datos\n",
        "drive.mount('/content/drive') # Montamos nuestra unidad de Google Drive\n",
        "\n",
        "filename = '/content/drive/My Drive/LaboDatos2021/datosDiariosSanFernandoINTA.xls'\n",
        "\n",
        "d = pd.read_excel(filename) # Levantamos los datos, en este caso, con el método pd.read_excel"
      ],
      "execution_count": null,
      "outputs": [
        {
          "output_type": "stream",
          "text": [
            "Mounted at /content/drive\n"
          ],
          "name": "stdout"
        }
      ]
    },
    {
      "cell_type": "markdown",
      "metadata": {
        "id": "Ff6MSZfVW9Lz"
      },
      "source": [
        "Luego, filtramos el dataframe descartando columnas con datos faltantes, seleccionamos un subconjunto de columnas, y las renombramos."
      ]
    },
    {
      "cell_type": "code",
      "metadata": {
        "id": "kTay790UXBEJ"
      },
      "source": [
        "d_filtrado = d[['Temperatura_Abrigo_150cm_Maxima',\n",
        "                'Temperatura_Abrigo_150cm_Minima',\n",
        "                'Precipitacion_Pluviometrica',\n",
        "                'Velocidad_Viento_Maxima',\n",
        "                'Rocio_Medio',\n",
        "                'Humedad_Media', 'Tesion_Vapor_Media']].dropna().copy() # Nos quedamos con ciertos campos del data set, para facilitar el trabajo. Y para limitarlo.\n",
        "                                                  # Notar que primero aplicamos el método .dropna() para eliminar filas que tengan alguna columna con NaN \n",
        "                                                  # Ademas, el metodo copy() nos asegura que estemos creando un nuevo dataframe \n",
        "d_filtrado.rename({'Temperatura_Abrigo_150cm_Maxima' : 'temperaturaMaxima',\n",
        "                   'Temperatura_Abrigo_150cm_Minima' : 'temperaturaMinima',\n",
        "                   'Precipitacion_Pluviometrica' : 'precipitacion',\n",
        "                   'Humedad_Media' : 'humedad',\n",
        "                   'Rocio_Medio' : 'rocio',\n",
        "                   'Velocidad_Viento_Maxima' : 'viento', 'Tesion_Vapor_Media': 'vapor'},\n",
        "                  axis = 1,\n",
        "                  inplace = True) # Esto toma como input un diccionario en el cual las llaves son los nombres actuales de columnas, y los valores los nombres nuevos (a los que queremos renombrar)\n",
        "                                  # axis = 1 es porque queremos renombrar columnas, y inplace=True es porque queremos \"pisar\" el dataframe al renombrarlo"
      ],
      "execution_count": null,
      "outputs": []
    },
    {
      "cell_type": "markdown",
      "metadata": {
        "id": "Gnj818t9XC37"
      },
      "source": [
        "Finalmente, construimos una variable con las etiquetas de los días lluviosos.\n"
      ]
    },
    {
      "cell_type": "code",
      "metadata": {
        "id": "ZVZQD9ZdXFjl",
        "colab": {
          "base_uri": "https://localhost:8080/"
        },
        "outputId": "f8f042bc-bcb4-48ee-e9f8-9ac19021b0d1"
      },
      "source": [
        "d_filtrado['llueveNollueve'] = 0 # empezamos con una columna llena de 0. \n",
        "indice =  d_filtrado['precipitacion'] > 0  # esto me da los valores del indice para los cuales hay precipitacion mayor a 0\n",
        "d_filtrado.loc[indice, 'llueveNollueve'] = 1 # entonces para esos valores del indice pongo 1, porque en el dia correspondiente, llovio\n",
        "\n",
        "d_filtrado['llueveNollueve'].value_counts()"
      ],
      "execution_count": null,
      "outputs": [
        {
          "output_type": "execute_result",
          "data": {
            "text/plain": [
              "0    717\n",
              "1    337\n",
              "Name: llueveNollueve, dtype: int64"
            ]
          },
          "metadata": {
            "tags": []
          },
          "execution_count": 4
        }
      ]
    },
    {
      "cell_type": "markdown",
      "metadata": {
        "id": "CcrlZhAcXV39"
      },
      "source": [
        "# Validación cruzada estratificada\n",
        "\n",
        "Empecemos con un modelo que incorpora features elevadas al cuadrado, cubo., etc. para darle más flexibilidad al modelo. \n",
        "\n",
        "Calculemos el AUC y ploteemos la curva ROC para los datos de entrenamiento y de evaluación siguiendo un train-test split con 70-30.\n"
      ]
    },
    {
      "cell_type": "code",
      "metadata": {
        "id": "hhq6bzhiXjDy",
        "colab": {
          "base_uri": "https://localhost:8080/",
          "height": 492
        },
        "outputId": "d806b174-21dc-4ed4-fe29-b1aee44222cb"
      },
      "source": [
        "from sklearn.preprocessing import MinMaxScaler\n",
        "from sklearn.metrics import roc_curve\n",
        "from sklearn.metrics import roc_auc_score\n",
        "from sklearn.model_selection import train_test_split\n",
        "\n",
        "# Definamos la matriz X\n",
        "campos = ['temperaturaMinima', 'temperaturaMaxima', 'humedad', 'rocio', 'vapor'] # Lista que contiene las features de interés.\n",
        "X = d_filtrado[campos].values # En este caso no hace falta reshapear, porque ya tiene la forma que queremos\n",
        "y = d_filtrado['llueveNollueve'] # Nuestra etiqueta sigue siende la misma de antes\n",
        "\n",
        "X_temp = X\n",
        "for i in np.arange(2,6):\n",
        "    X_temp = np.concatenate((X_temp,X**i), axis=1)\n",
        "X_1 = X_temp\n",
        " \n",
        "\n",
        "X_train, X_test, y_train, y_test = train_test_split(X_1, y, test_size=0.3) # armo el split\n",
        "\n",
        "scaler = MinMaxScaler() # escaleo por separado ambos sets\n",
        "scaler.fit(X_train) \n",
        "X_train = scaler.transform(X_train)\n",
        "\n",
        "scaler = MinMaxScaler() # escaleo por separado ambos sets\n",
        "scaler.fit(X_test) \n",
        "X_test = scaler.transform(X_test)\n",
        "\n",
        "regLog_1 = LogisticRegression(penalty = 'none', max_iter=10000) # Inicializamos nuevamente el modelo. max_iter es la cantidad de iteraciones maximas del algoritmo de optimizacion de parametros antes de detenerse.\n",
        "regLog_1.fit(X_train, y_train) # Ajustamos el modelo con los datos de entrenamiento\n",
        "\n",
        "probas_train = regLog_1.predict_proba(X_train)  # probabilidades con datos de entrenamiento\n",
        "probas_test = regLog_1.predict_proba(X_test)  # probabilidades con datos de evaluación\n",
        "\n",
        "fpr_train, tpr_train, thresholds_train = roc_curve(y_train, probas_train[:,1]) # para plotear curva ROC con datos de entrenamiento\n",
        "fpr_test, tpr_test, thresholds_test = roc_curve(y_test, probas_test[:,1]) # para plotear curva ROC con datos de evaluacion\n",
        "\n",
        "auc_train = roc_auc_score(y_train, probas_train[:,1]) #  AUC con datos de entrenamiento\n",
        "auc_test = roc_auc_score(y_test, probas_test[:,1]) #  AUC con datos de evaluación\n",
        "\n",
        "# para plotear ROC (codigo de un notebook anterior)\n",
        "\n",
        "fig, ax = plt.subplots(figsize = (10,7))\n",
        "ax.set_title('Verdaderos positivos vs. falsos positivos')\n",
        "ax.plot(fpr_train,tpr_train, label = \"Entrenamiento\") # graficamos la curva ROC para el set de entrenamiento\n",
        "ax.plot(fpr_test,tpr_test, label = \"Evaluacion\") # graficamos la curva ROC para el set de evaluacion\n",
        "\n",
        "ax.set_xlabel('Tasa de falsos positivos') # Etiqueta del eje x\n",
        "ax.set_ylabel('Tasa de verdaderos positivos') # Etiqueta del eje y\n",
        "\n",
        "plt.legend()\n",
        "\n",
        "print('AUC entrenamiento: {}'.format(round(auc_train,4)))  \n",
        "print('AUC evaluacion: {}'.format(round(auc_test,4)))  \n",
        "\n"
      ],
      "execution_count": null,
      "outputs": [
        {
          "output_type": "stream",
          "text": [
            "AUC entrenamiento: 0.7698\n",
            "AUC evaluacion: 0.6974\n"
          ],
          "name": "stdout"
        },
        {
          "output_type": "display_data",
          "data": {
            "image/png": "[encoded data removed]",
            "text/plain": [
              "<Figure size 720x504 with 1 Axes>"
            ]
          },
          "metadata": {
            "tags": [],
            "needs_background": "light"
          }
        }
      ]
    },
    {
      "cell_type": "markdown",
      "metadata": {
        "id": "xJ79OqTfaUxz"
      },
      "source": [
        "Podemos darle Play varias veces al bloque de código anterior. Vamos a ver que hay una variabilidad natural en las curvas, aunque en general el AUC de evaluacion será menor que el de entrenamiento, debido al overfitting.\n",
        "\n",
        "**Un problema del train-test split es que depende mucho de qué casos fueron a parar a cada uno de los conjuntos.**\n",
        "\n",
        "Si tuvimos \"suerte\" entonces los casos del conjunto de entrenamiento serán muy informativos y el clasificador tendrá buena performance. Pero sino, no. Entonces esto fluctúa dependiendo del azar.\n",
        "\n",
        "Otro problema es que el train-test split produce predicciones no sesgadas por overfitting **únicamente para los casos que fueron al test set.** Si quisieramos una predicción del modelo para todos los casos, entonces para aquellos en el train set obtendríamos una predicción más certera de lo esperable realmente.\n",
        "\n",
        "Una forma de atenuar estos problemas es usar **validación cruzada estratificada con K folds**, la cual funciona de la siguiente manera:\n",
        "\n",
        "1.   Se dividen los datos en K subconjuntos de forma tal que la prevalencia de ambas clases esté balanceada en cada subconjunto.\n",
        "2.   Se elige uno de esos subconjuntos y se lo designa set de evaluación. Todos los demás son sets de entrenamiento. Se entrena entonces al modelo usando estos datos para evaluación y entrenamiento, y se genera una predicción para cada uno de los datos en el conjunto que fue elegido como evaluación.\n",
        "3.   Se repite el proceso usando cada uno de los K subconjuntos para evaluación exactamente una vez.\n",
        "\n",
        "De esta forma, tenemos que todos los datos fueron usados una vez para evaluación y al menos una vez para entrenamiento. Además, tenemos una predicción para cada uno de los casos, y esta predicción no está afectada por overfitting (porque ese caso no fue usado en entrenamiento).\n",
        "\n",
        "Veamos como funciona implementarlo en scikit-learn.\n",
        "\n"
      ]
    },
    {
      "cell_type": "code",
      "metadata": {
        "id": "9iAhkd-qcH3n",
        "colab": {
          "base_uri": "https://localhost:8080/"
        },
        "outputId": "d4bd2c3d-e118-4830-f918-77e51a221317"
      },
      "source": [
        "from sklearn.model_selection import StratifiedKFold\n",
        "\n",
        "from sklearn.preprocessing import MinMaxScaler\n",
        "from sklearn.metrics import roc_curve\n",
        "from sklearn.metrics import roc_auc_score\n",
        "from sklearn.model_selection import train_test_split\n",
        "\n",
        "# Definamos la matriz X\n",
        "campos = ['temperaturaMinima', 'temperaturaMaxima', 'humedad', 'rocio', 'vapor'] # Lista que contiene las features de interés.\n",
        "X = d_filtrado[campos].values # En este caso no hace falta reshapear, porque ya tiene la forma que queremos\n",
        "y = np.array(d_filtrado['llueveNollueve']) # Nuestra etiqueta sigue siende la misma de antes\n",
        "\n",
        "X_temp = X\n",
        "for i in np.arange(2,6):\n",
        "    X_temp = np.concatenate((X_temp,X**i), axis=1)\n",
        "X_1 = X_temp\n",
        " \n",
        "\n",
        "skf = StratifiedKFold(n_splits=5, shuffle=True) # 5 folds es un número típico si tenemos suficientes datos. Pedimos shuffle=True para que sea al azar la separación en subgrupos\n",
        "skf.get_n_splits(X_1, y) # arma los folds a partir de los datos\n",
        "\n",
        "auc_values = [] # aca es donde van a ir a parar los AUCs de cada fold\n",
        "scores = np.array([])     # aca es donde van a ir a parar los scores computados para todos los casos\n",
        "indices = np.array([])    # aca es donde van a ir a parar los indices correspondientes a las entradas de scores\n",
        "\n",
        "for train_index, test_index in skf.split(X_1, y): # va generando los indices que corresponden a train y test en cada fold\n",
        "    X_train, X_test = X_1[train_index], X_1[test_index] # arma que es dato de entrenamiento y qué es dato de evaluación\n",
        "    y_train, y_test = y[train_index], y[test_index]     # idem con los targets\n",
        "\n",
        "    regLog_1 = LogisticRegression(penalty = 'none', max_iter=10000) # Inicializamos nuevamente el modelo. max_iter es la cantidad de iteraciones maximas del algoritmo de optimizacion de parametros antes de detenerse.\n",
        "    regLog_1.fit(X_train, y_train) # Ajustamos el modelo con los datos de entrenamiento\n",
        "\n",
        "    probas_test = regLog_1.predict_proba(X_test)  # probabilidades con datos de evaluación\n",
        "    fpr_test, tpr_test, thresholds_test = roc_curve(y_test, probas_test[:,1]) # para plotear curva ROC con datos de entrenamiento\n",
        "    auc_test = roc_auc_score(y_test, probas_test[:,1]) #  AUC con datos de evaluación\n",
        "\n",
        "    auc_values.append(auc_test)\n",
        "    scores = np.concatenate((scores,probas_test[:,1]),axis=0)\n",
        "    indices = np.concatenate((indices,test_index),axis=0)\n",
        "\n",
        "print(\"Estos son los valores AUC para cada fold:\")\n",
        "print(auc_values)\n",
        "print(\"Estos es el promedio de todos los AUC:\")\n",
        "print(np.mean(auc_values))\n",
        "print(\"Estos son las probabilidades para cada sample:\")\n",
        "print(scores)\n",
        "print(\"Esta es la forma en que quedaron ordenados las entradas del vector anterior (indices):\")\n",
        "print(indices)\n",
        "\n",
        "\n"
      ],
      "execution_count": null,
      "outputs": [
        {
          "output_type": "stream",
          "text": [
            "Estos son los valores AUC para cada fold:\n",
            "[0.7159605100781572, 0.809543397778692, 0.6983830845771144, 0.748134328358209, 0.7340569877883311]\n",
            "Estos es el promedio de todos los AUC:\n",
            "0.7412156617161008\n",
            "Estos son las probabilidades para cada sample:\n",
            "[0.17695431 0.19192147 0.22520072 ... 0.26286311 0.19942934 0.48323599]\n",
            "Esta es la forma en que quedaron ordenados las entradas del vector anterior (indices):\n",
            "[   4.    6.    8. ... 1039. 1041. 1052.]\n"
          ],
          "name": "stdout"
        }
      ]
    },
    {
      "cell_type": "markdown",
      "metadata": {
        "id": "JhtCGgHtgnv2"
      },
      "source": [
        "Por último, también se puede seguir un esquema de validación tipo \"leave one out\" (dejar uno afuera). Esta estrategia da un mejor estimativo de la performance del clasificador sobre los datos, pero es más costoso computacionalmente. Supongamos que tenemos $N$ samples, entonces los dividimos en $N$ grupos de entrenamiento y validación, donde los conjuntos de validación tienen un solo elemento, que va siendo cada uno de los samples en mi dataset, y los conjuntos de entrenamiento tienen todos los samples menos el que quedó en el conjunto de evaluación. **Así, todos los datos posibles se usan para estimar la clase de cada sample en el dataset.**\n",
        "\n",
        "```\n",
        "# sklearn.model_selection.LeaveOneOut[source]¶\n",
        "```\n",
        "\n"
      ]
    },
    {
      "cell_type": "markdown",
      "metadata": {
        "id": "PCvvUBnbhkLc"
      },
      "source": [
        "# Para llevarse de este notebook\n",
        "\n",
        "*   El train-test split tiene la desventaja de que dependiendo del azar, algunos datos se usan para entrenar y otros para evaluar, y que no obtenemos una estimación no sesgada de todos los samples en el dataset, únicamente de ellos que fueron a parar al test set.\n",
        "*   Esto se puede resolver usando la validación cruzada estratificada con K-folds:\n",
        "\n",
        "\n",
        "```\n",
        "skf = StratifiedKFold(n_splits=5, shuffle=True)\n",
        "skf.get_n_splits(X_1, y) \n",
        "for train_index, test_index in skf.split(X_1, y):\n",
        "\n",
        "```\n",
        "\n",
        "Dentro del for loop (que se ejecuta tantas veces como folds fueron elegidos), las variables train_index y test_index van tomando los valores que corresponden a cada fold en el cual se intenta balancear las cantidad de ejemplos de cada clase.\n",
        "\n",
        "*   Otra forma de hacer esto es con \"leave one out\", que es más costoso computacionalmente:\n",
        "\n",
        "```\n",
        "# sklearn.model_selection.LeaveOneOut[source]¶\n",
        "```\n",
        "\n",
        "pero que usa todos los datos posibles para estimar la etiqueta de cada sample.\n",
        "\n"
      ]
    }
  ]
}